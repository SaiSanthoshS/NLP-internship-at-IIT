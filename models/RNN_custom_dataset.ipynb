{
 "cells": [
  {
   "cell_type": "code",
   "execution_count": 255,
   "metadata": {},
   "outputs": [],
   "source": [
    "import pandas as pd"
   ]
  },
  {
   "cell_type": "code",
   "execution_count": 256,
   "metadata": {},
   "outputs": [
    {
     "name": "stderr",
     "output_type": "stream",
     "text": [
      "Reusing dataset yelp_review_full (C:\\Users\\SANDY\\.cache\\huggingface\\datasets\\yelp_review_full\\yelp_review_full\\1.0.0\\e8e18e19d7be9e75642fc66b198abadb116f73599ec89a69ba5dd8d1e57ba0bf)\n"
     ]
    },
    {
     "data": {
      "application/vnd.jupyter.widget-view+json": {
       "model_id": "729aa95c05754420bcf5d865c40ad8d9",
       "version_major": 2,
       "version_minor": 0
      },
      "text/plain": [
       "  0%|          | 0/2 [00:00<?, ?it/s]"
      ]
     },
     "metadata": {},
     "output_type": "display_data"
    }
   ],
   "source": [
    "from datasets import load_dataset\n",
    "\n",
    "train_data, test_data = load_dataset(\"yelp_review_full\" , split =['train[0:800]', 'test[0:200]'])"
   ]
  },
  {
   "cell_type": "code",
   "execution_count": 257,
   "metadata": {},
   "outputs": [
    {
     "name": "stdout",
     "output_type": "stream",
     "text": [
      "<class 'datasets.arrow_dataset.Dataset'>\n"
     ]
    }
   ],
   "source": [
    "print(type(train_data))"
   ]
  },
  {
   "cell_type": "code",
   "execution_count": 258,
   "metadata": {},
   "outputs": [],
   "source": [
    "df = train_data.to_pandas()\n",
    "df1 = test_data.to_pandas()"
   ]
  },
  {
   "cell_type": "code",
   "execution_count": 259,
   "metadata": {},
   "outputs": [
    {
     "data": {
      "text/html": [
       "<div>\n",
       "<style scoped>\n",
       "    .dataframe tbody tr th:only-of-type {\n",
       "        vertical-align: middle;\n",
       "    }\n",
       "\n",
       "    .dataframe tbody tr th {\n",
       "        vertical-align: top;\n",
       "    }\n",
       "\n",
       "    .dataframe thead th {\n",
       "        text-align: right;\n",
       "    }\n",
       "</style>\n",
       "<table border=\"1\" class=\"dataframe\">\n",
       "  <thead>\n",
       "    <tr style=\"text-align: right;\">\n",
       "      <th></th>\n",
       "      <th>label</th>\n",
       "      <th>text</th>\n",
       "    </tr>\n",
       "  </thead>\n",
       "  <tbody>\n",
       "    <tr>\n",
       "      <th>0</th>\n",
       "      <td>4</td>\n",
       "      <td>dr. goldberg offers everything i look for in a...</td>\n",
       "    </tr>\n",
       "    <tr>\n",
       "      <th>1</th>\n",
       "      <td>1</td>\n",
       "      <td>Unfortunately, the frustration of being Dr. Go...</td>\n",
       "    </tr>\n",
       "    <tr>\n",
       "      <th>2</th>\n",
       "      <td>3</td>\n",
       "      <td>Been going to Dr. Goldberg for over 10 years. ...</td>\n",
       "    </tr>\n",
       "    <tr>\n",
       "      <th>3</th>\n",
       "      <td>3</td>\n",
       "      <td>Got a letter in the mail last week that said D...</td>\n",
       "    </tr>\n",
       "    <tr>\n",
       "      <th>4</th>\n",
       "      <td>0</td>\n",
       "      <td>I don't know what Dr. Goldberg was like before...</td>\n",
       "    </tr>\n",
       "    <tr>\n",
       "      <th>5</th>\n",
       "      <td>4</td>\n",
       "      <td>Top notch doctor in a top notch practice. Can'...</td>\n",
       "    </tr>\n",
       "    <tr>\n",
       "      <th>6</th>\n",
       "      <td>4</td>\n",
       "      <td>Dr. Eric Goldberg is a fantastic doctor who ha...</td>\n",
       "    </tr>\n",
       "    <tr>\n",
       "      <th>7</th>\n",
       "      <td>0</td>\n",
       "      <td>I'm writing this review to give you a heads up...</td>\n",
       "    </tr>\n",
       "    <tr>\n",
       "      <th>8</th>\n",
       "      <td>1</td>\n",
       "      <td>Wing sauce is like water. Pretty much a lot of...</td>\n",
       "    </tr>\n",
       "    <tr>\n",
       "      <th>9</th>\n",
       "      <td>2</td>\n",
       "      <td>Decent range somewhat close to the city.  The ...</td>\n",
       "    </tr>\n",
       "  </tbody>\n",
       "</table>\n",
       "</div>"
      ],
      "text/plain": [
       "   label                                               text\n",
       "0      4  dr. goldberg offers everything i look for in a...\n",
       "1      1  Unfortunately, the frustration of being Dr. Go...\n",
       "2      3  Been going to Dr. Goldberg for over 10 years. ...\n",
       "3      3  Got a letter in the mail last week that said D...\n",
       "4      0  I don't know what Dr. Goldberg was like before...\n",
       "5      4  Top notch doctor in a top notch practice. Can'...\n",
       "6      4  Dr. Eric Goldberg is a fantastic doctor who ha...\n",
       "7      0  I'm writing this review to give you a heads up...\n",
       "8      1  Wing sauce is like water. Pretty much a lot of...\n",
       "9      2  Decent range somewhat close to the city.  The ..."
      ]
     },
     "execution_count": 259,
     "metadata": {},
     "output_type": "execute_result"
    }
   ],
   "source": [
    "df.head(10)\n"
   ]
  },
  {
   "cell_type": "code",
   "execution_count": 260,
   "metadata": {},
   "outputs": [
    {
     "data": {
      "text/plain": [
       "(800,)"
      ]
     },
     "execution_count": 260,
     "metadata": {},
     "output_type": "execute_result"
    }
   ],
   "source": [
    "x_train = df['text']\n",
    "y_train = df['label'] #value of y is dependent on X\n",
    "\n",
    "x_test = df1['text']\n",
    "y_test = df1['label']\n",
    "\n",
    "y_train.shape"
   ]
  },
  {
   "cell_type": "code",
   "execution_count": 261,
   "metadata": {},
   "outputs": [],
   "source": [
    "from keras.preprocessing.text import Tokenizer\n",
    "\n",
    "tokenizer = Tokenizer(num_words=1000, lower=True)\n",
    "tokenizer.fit_on_texts(x_train)\n",
    "\n",
    "x_train = tokenizer.texts_to_sequences(x_train)\n",
    "x_test = tokenizer.texts_to_sequences(x_test)\n",
    "\n",
    "vocab_size = len(tokenizer.word_index) + 1"
   ]
  },
  {
   "cell_type": "code",
   "execution_count": 262,
   "metadata": {},
   "outputs": [
    {
     "name": "stdout",
     "output_type": "stream",
     "text": [
      "[751, 1, 6, 196, 657, 9, 4, 6, 1, 146, 78, 25, 19, 28, 170, 80, 11, 31, 390, 116, 8, 297, 13, 218, 116, 613, 90, 1, 377, 8, 263, 691, 139, 291, 6, 5, 37, 50, 107, 79, 51, 10, 13, 42, 986, 5, 454, 19, 8, 3, 21, 421, 150, 16, 391, 19, 170, 80, 2, 3, 36, 67, 37, 8, 18, 21, 614, 873, 18, 21, 19, 716, 243, 367, 511, 1, 377, 47, 2, 23, 199, 1, 47, 19, 13, 3, 254, 13, 3, 21, 5, 173, 657, 139, 255]\n",
      "1\n"
     ]
    }
   ],
   "source": [
    "print(x_train[1])\n",
    "print(y_train[1])"
   ]
  },
  {
   "cell_type": "code",
   "execution_count": 263,
   "metadata": {},
   "outputs": [
    {
     "name": "stdout",
     "output_type": "stream",
     "text": [
      "[ 97   4  11   1 187 404  13 118 657   9 922   5   5 133   4 175  32  11\n",
      "  72  70  29  49  96  12  91 125   4 175  11  13  18 200  38 368 307  29\n",
      "  33 615  33 347   5 111   4 831   0   0   0   0   0   0   0   0   0   0\n",
      "   0   0   0   0   0   0   0   0   0   0   0   0   0   0   0   0   0   0\n",
      "   0   0   0   0   0   0   0   0   0   0   0   0   0   0   0   0   0   0\n",
      "   0   0   0   0   0   0   0   0   0   0]\n"
     ]
    }
   ],
   "source": [
    "from keras.preprocessing.sequence import pad_sequences\n",
    "\n",
    "#padding makes sure that every sequence will have the same line, missing space is filled by zero\n",
    "\n",
    "maxlen = 100\n",
    "\n",
    "x_train = pad_sequences(x_train, padding = 'post',maxlen=maxlen)\n",
    "x_test = pad_sequences(x_test, padding = 'post',maxlen=maxlen)\n",
    "\n",
    "print(x_train[3, :])"
   ]
  },
  {
   "cell_type": "code",
   "execution_count": 264,
   "metadata": {},
   "outputs": [
    {
     "name": "stdout",
     "output_type": "stream",
     "text": [
      "(800, 5)\n",
      "[0 0 0 0 1]\n"
     ]
    }
   ],
   "source": [
    "from tensorflow.keras.utils import to_categorical\n",
    "\n",
    "y_train = to_categorical(y_train, dtype =\"uint8\")\n",
    "\n",
    "print(y_train.shape)\n",
    "print(y_train[0])"
   ]
  },
  {
   "cell_type": "code",
   "execution_count": 268,
   "metadata": {},
   "outputs": [],
   "source": [
    "from keras.models import Sequential\n",
    "from keras.layers import Dense, Dropout, Activation, SimpleRNN\n",
    "from tensorflow.keras.optimizers import Adam\n",
    "from keras.preprocessing.sequence import pad_sequences\n",
    "import numpy as np\n",
    "\n",
    "#It is converted as 3D input as specified\n",
    "\n",
    "x_train = np.array(x_train).reshape(x_train.shape[0], x_train.shape[1], 1)\n",
    "x_test = np.array(x_test).reshape(x_test.shape[0], x_test.shape[1], 1)\n",
    "\n",
    "def vanilla_run(layer_name):\n",
    "    model = Sequential()\n",
    "    model.add(layer_name(100, input_shape=(100,1), return_sequences=False))\n",
    "    model.add(Dense(5))\n",
    "    model.add(Activation('softmax'))\n",
    "    model.compile(loss='categorical_crossentropy', optimizer='adam', metrics = ['accuracy'])\n",
    "    model.summary()\n",
    "    return model"
   ]
  },
  {
   "cell_type": "code",
   "execution_count": 269,
   "metadata": {},
   "outputs": [
    {
     "name": "stdout",
     "output_type": "stream",
     "text": [
      "Model: \"sequential_20\"\n",
      "_________________________________________________________________\n",
      " Layer (type)                Output Shape              Param #   \n",
      "=================================================================\n",
      " simple_rnn_22 (SimpleRNN)   (None, 100)               10200     \n",
      "                                                                 \n",
      " dense_18 (Dense)            (None, 5)                 505       \n",
      "                                                                 \n",
      " activation_20 (Activation)  (None, 5)                 0         \n",
      "                                                                 \n",
      "=================================================================\n",
      "Total params: 10,705\n",
      "Trainable params: 10,705\n",
      "Non-trainable params: 0\n",
      "_________________________________________________________________\n",
      "Epoch 1/50\n",
      "16/16 [==============================] - 1s 11ms/step - loss: 1.6358 - accuracy: 0.2087\n",
      "Epoch 2/50\n",
      "16/16 [==============================] - 0s 10ms/step - loss: 1.5653 - accuracy: 0.2738\n",
      "Epoch 3/50\n",
      "16/16 [==============================] - 0s 11ms/step - loss: 1.5519 - accuracy: 0.2875\n",
      "Epoch 4/50\n",
      "16/16 [==============================] - 0s 14ms/step - loss: 1.5394 - accuracy: 0.2950\n",
      "Epoch 5/50\n",
      "16/16 [==============================] - 0s 11ms/step - loss: 1.5288 - accuracy: 0.3187\n",
      "Epoch 6/50\n",
      "16/16 [==============================] - 0s 10ms/step - loss: 1.5339 - accuracy: 0.2988\n",
      "Epoch 7/50\n",
      "16/16 [==============================] - 0s 11ms/step - loss: 1.5323 - accuracy: 0.3088\n",
      "Epoch 8/50\n",
      "16/16 [==============================] - 0s 11ms/step - loss: 1.5212 - accuracy: 0.3262\n",
      "Epoch 9/50\n",
      "16/16 [==============================] - 0s 12ms/step - loss: 1.5295 - accuracy: 0.3150\n",
      "Epoch 10/50\n",
      "16/16 [==============================] - 0s 14ms/step - loss: 1.5094 - accuracy: 0.3187\n",
      "Epoch 11/50\n",
      "16/16 [==============================] - 0s 13ms/step - loss: 1.5295 - accuracy: 0.3088\n",
      "Epoch 12/50\n",
      "16/16 [==============================] - 0s 11ms/step - loss: 1.5295 - accuracy: 0.3063\n",
      "Epoch 13/50\n",
      "16/16 [==============================] - 0s 13ms/step - loss: 1.5102 - accuracy: 0.3175\n",
      "Epoch 14/50\n",
      "16/16 [==============================] - 0s 13ms/step - loss: 1.5303 - accuracy: 0.3150\n",
      "Epoch 15/50\n",
      "16/16 [==============================] - 0s 11ms/step - loss: 1.5301 - accuracy: 0.3013\n",
      "Epoch 16/50\n",
      "16/16 [==============================] - 0s 11ms/step - loss: 1.5247 - accuracy: 0.3250\n",
      "Epoch 17/50\n",
      "16/16 [==============================] - 0s 11ms/step - loss: 1.5021 - accuracy: 0.3438\n",
      "Epoch 18/50\n",
      "16/16 [==============================] - 0s 13ms/step - loss: 1.5261 - accuracy: 0.3038\n",
      "Epoch 19/50\n",
      "16/16 [==============================] - 0s 13ms/step - loss: 1.5045 - accuracy: 0.3363\n",
      "Epoch 20/50\n",
      "16/16 [==============================] - 0s 11ms/step - loss: 1.5104 - accuracy: 0.3250\n",
      "Epoch 21/50\n",
      "16/16 [==============================] - 0s 10ms/step - loss: 1.5096 - accuracy: 0.3113\n",
      "Epoch 22/50\n",
      "16/16 [==============================] - 0s 10ms/step - loss: 1.5074 - accuracy: 0.3200\n",
      "Epoch 23/50\n",
      "16/16 [==============================] - 0s 11ms/step - loss: 1.5085 - accuracy: 0.3162\n",
      "Epoch 24/50\n",
      "16/16 [==============================] - 0s 11ms/step - loss: 1.4867 - accuracy: 0.3575\n",
      "Epoch 25/50\n",
      "16/16 [==============================] - 0s 13ms/step - loss: 1.4976 - accuracy: 0.3350\n",
      "Epoch 26/50\n",
      "16/16 [==============================] - 0s 11ms/step - loss: 1.5020 - accuracy: 0.3225\n",
      "Epoch 27/50\n",
      "16/16 [==============================] - 0s 11ms/step - loss: 1.4991 - accuracy: 0.3150\n",
      "Epoch 28/50\n",
      "16/16 [==============================] - 0s 11ms/step - loss: 1.4904 - accuracy: 0.3237\n",
      "Epoch 29/50\n",
      "16/16 [==============================] - 0s 11ms/step - loss: 1.4825 - accuracy: 0.3200\n",
      "Epoch 30/50\n",
      "16/16 [==============================] - 0s 12ms/step - loss: 1.4827 - accuracy: 0.3325\n",
      "Epoch 31/50\n",
      "16/16 [==============================] - 0s 11ms/step - loss: 1.4863 - accuracy: 0.3113\n",
      "Epoch 32/50\n",
      "16/16 [==============================] - 0s 11ms/step - loss: 1.4767 - accuracy: 0.3338\n",
      "Epoch 33/50\n",
      "16/16 [==============================] - 0s 11ms/step - loss: 1.4781 - accuracy: 0.3462\n",
      "Epoch 34/50\n",
      "16/16 [==============================] - 0s 11ms/step - loss: 1.4688 - accuracy: 0.3438\n",
      "Epoch 35/50\n",
      "16/16 [==============================] - 0s 11ms/step - loss: 1.4645 - accuracy: 0.3525\n",
      "Epoch 36/50\n",
      "16/16 [==============================] - 0s 11ms/step - loss: 1.4513 - accuracy: 0.3525\n",
      "Epoch 37/50\n",
      "16/16 [==============================] - 0s 11ms/step - loss: 1.4584 - accuracy: 0.3425\n",
      "Epoch 38/50\n",
      "16/16 [==============================] - 0s 11ms/step - loss: 1.4435 - accuracy: 0.3550\n",
      "Epoch 39/50\n",
      "16/16 [==============================] - 0s 11ms/step - loss: 1.4675 - accuracy: 0.3475\n",
      "Epoch 40/50\n",
      "16/16 [==============================] - 0s 12ms/step - loss: 1.4560 - accuracy: 0.3688\n",
      "Epoch 41/50\n",
      "16/16 [==============================] - 0s 13ms/step - loss: 1.4495 - accuracy: 0.3575\n",
      "Epoch 42/50\n",
      "16/16 [==============================] - 0s 13ms/step - loss: 1.4347 - accuracy: 0.3638\n",
      "Epoch 43/50\n",
      "16/16 [==============================] - 0s 14ms/step - loss: 1.4243 - accuracy: 0.3713\n",
      "Epoch 44/50\n",
      "16/16 [==============================] - 0s 11ms/step - loss: 1.4250 - accuracy: 0.3862\n",
      "Epoch 45/50\n",
      "16/16 [==============================] - 0s 10ms/step - loss: 1.4248 - accuracy: 0.3725\n",
      "Epoch 46/50\n",
      "16/16 [==============================] - 0s 11ms/step - loss: 1.4096 - accuracy: 0.3887\n",
      "Epoch 47/50\n",
      "16/16 [==============================] - 0s 10ms/step - loss: 1.4149 - accuracy: 0.3700\n",
      "Epoch 48/50\n",
      "16/16 [==============================] - 0s 11ms/step - loss: 1.4041 - accuracy: 0.3862\n",
      "Epoch 49/50\n",
      "16/16 [==============================] - 0s 11ms/step - loss: 1.3862 - accuracy: 0.4075\n",
      "Epoch 50/50\n",
      "16/16 [==============================] - 0s 11ms/step - loss: 1.3877 - accuracy: 0.3988\n"
     ]
    }
   ],
   "source": [
    "model = vanilla_run(SimpleRNN)\n",
    "history=model.fit(x_train, y_train, epochs=50, batch_size=50)"
   ]
  },
  {
   "cell_type": "code",
   "execution_count": 273,
   "metadata": {},
   "outputs": [
    {
     "name": "stdout",
     "output_type": "stream",
     "text": [
      "[0.20864727 0.20412067 0.18072188 0.12203641 0.28447372]\n",
      "0\n"
     ]
    }
   ],
   "source": [
    "a = [\"I hate their service\"]\n",
    "a = tokenizer.texts_to_sequences(a)\n",
    "a= np.array(a)\n",
    "a = pad_sequences(a, padding='post', maxlen=maxlen)\n",
    "a = np.array(a).reshape(a.shape[0], a.shape[1], 1)\n",
    "\n",
    "prediction = model.predict(a)\n",
    "print(prediction[0])\n",
    "print(len(prediction[0])-1 -np.argmax(prediction))\n",
    "\n",
    "# 0-4 is the scale. max number represents satisfaction"
   ]
  },
  {
   "cell_type": "code",
   "execution_count": null,
   "metadata": {},
   "outputs": [],
   "source": []
  }
 ],
 "metadata": {
  "kernelspec": {
   "display_name": "Python 3",
   "language": "python",
   "name": "python3"
  },
  "language_info": {
   "codemirror_mode": {
    "name": "ipython",
    "version": 3
   },
   "file_extension": ".py",
   "mimetype": "text/x-python",
   "name": "python",
   "nbconvert_exporter": "python",
   "pygments_lexer": "ipython3",
   "version": "3.8.3"
  }
 },
 "nbformat": 4,
 "nbformat_minor": 4
}
