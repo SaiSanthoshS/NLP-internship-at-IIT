{
 "cells": [
  {
   "cell_type": "code",
   "execution_count": 16,
   "metadata": {},
   "outputs": [],
   "source": [
    "import tensorflow_hub as hub\n",
    "import tensorflow_text"
   ]
  },
  {
   "cell_type": "code",
   "execution_count": 5,
   "metadata": {},
   "outputs": [
    {
     "name": "stdout",
     "output_type": "stream",
     "text": [
      "Collecting tensorflow_hubNote: you may need to restart the kernel to use updated packages.\n",
      "\n",
      "  Downloading tensorflow_hub-0.12.0-py2.py3-none-any.whl (108 kB)\n",
      "Requirement already satisfied: protobuf>=3.8.0 in e:\\anaconda\\lib\\site-packages (from tensorflow_hub) (3.19.1)\n",
      "Requirement already satisfied: numpy>=1.12.0 in e:\\anaconda\\lib\\site-packages (from tensorflow_hub) (1.18.5)\n",
      "Installing collected packages: tensorflow-hub\n",
      "Successfully installed tensorflow-hub-0.12.0\n"
     ]
    }
   ],
   "source": [
    "pip install tensorflow_hub"
   ]
  },
  {
   "cell_type": "code",
   "execution_count": 15,
   "metadata": {},
   "outputs": [
    {
     "name": "stdout",
     "output_type": "stream",
     "text": [
      "Collecting tensorflow-text\n",
      "  Using cached tensorflow_text-2.9.0-cp38-cp38-win_amd64.whl (4.4 MB)\n",
      "Requirement already satisfied: tensorflow-hub>=0.8.0 in e:\\anaconda\\lib\\site-packages (from tensorflow-text) (0.12.0)\n",
      "Requirement already satisfied: tensorflow<2.10,>=2.9.0; platform_machine != \"arm64\" or platform_system != \"Darwin\" in e:\\anaconda\\lib\\site-packages (from tensorflow-text) (2.9.1)\n",
      "Requirement already satisfied: numpy>=1.12.0 in e:\\anaconda\\lib\\site-packages (from tensorflow-hub>=0.8.0->tensorflow-text) (1.23.1)\n",
      "Requirement already satisfied: protobuf>=3.8.0 in e:\\anaconda\\lib\\site-packages (from tensorflow-hub>=0.8.0->tensorflow-text) (3.19.1)\n",
      "Requirement already satisfied: tensorflow-io-gcs-filesystem>=0.23.1 in e:\\anaconda\\lib\\site-packages (from tensorflow<2.10,>=2.9.0; platform_machine != \"arm64\" or platform_system != \"Darwin\"->tensorflow-text) (0.23.1)\n",
      "Requirement already satisfied: tensorboard<2.10,>=2.9 in e:\\anaconda\\lib\\site-packages (from tensorflow<2.10,>=2.9.0; platform_machine != \"arm64\" or platform_system != \"Darwin\"->tensorflow-text) (2.9.1)\n",
      "Requirement already satisfied: opt-einsum>=2.3.2 in e:\\anaconda\\lib\\site-packages (from tensorflow<2.10,>=2.9.0; platform_machine != \"arm64\" or platform_system != \"Darwin\"->tensorflow-text) (3.3.0)\n",
      "Requirement already satisfied: astunparse>=1.6.0 in e:\\anaconda\\lib\\site-packages (from tensorflow<2.10,>=2.9.0; platform_machine != \"arm64\" or platform_system != \"Darwin\"->tensorflow-text) (1.6.3)\n",
      "Requirement already satisfied: packaging in e:\\anaconda\\lib\\site-packages (from tensorflow<2.10,>=2.9.0; platform_machine != \"arm64\" or platform_system != \"Darwin\"->tensorflow-text) (20.4)\n",
      "Requirement already satisfied: google-pasta>=0.1.1 in e:\\anaconda\\lib\\site-packages (from tensorflow<2.10,>=2.9.0; platform_machine != \"arm64\" or platform_system != \"Darwin\"->tensorflow-text) (0.2.0)\n",
      "Requirement already satisfied: keras<2.10.0,>=2.9.0rc0 in e:\\anaconda\\lib\\site-packages (from tensorflow<2.10,>=2.9.0; platform_machine != \"arm64\" or platform_system != \"Darwin\"->tensorflow-text) (2.9.0)\n",
      "Requirement already satisfied: libclang>=13.0.0 in e:\\anaconda\\lib\\site-packages (from tensorflow<2.10,>=2.9.0; platform_machine != \"arm64\" or platform_system != \"Darwin\"->tensorflow-text) (14.0.6)\n",
      "Requirement already satisfied: flatbuffers<2,>=1.12 in e:\\anaconda\\lib\\site-packages (from tensorflow<2.10,>=2.9.0; platform_machine != \"arm64\" or platform_system != \"Darwin\"->tensorflow-text) (1.12)\n",
      "Requirement already satisfied: absl-py>=1.0.0 in e:\\anaconda\\lib\\site-packages (from tensorflow<2.10,>=2.9.0; platform_machine != \"arm64\" or platform_system != \"Darwin\"->tensorflow-text) (1.0.0)\n",
      "Requirement already satisfied: typing-extensions>=3.6.6 in e:\\anaconda\\lib\\site-packages (from tensorflow<2.10,>=2.9.0; platform_machine != \"arm64\" or platform_system != \"Darwin\"->tensorflow-text) (4.3.0)\n",
      "Requirement already satisfied: six>=1.12.0 in e:\\anaconda\\lib\\site-packages (from tensorflow<2.10,>=2.9.0; platform_machine != \"arm64\" or platform_system != \"Darwin\"->tensorflow-text) (1.15.0)\n",
      "Requirement already satisfied: termcolor>=1.1.0 in e:\\anaconda\\lib\\site-packages (from tensorflow<2.10,>=2.9.0; platform_machine != \"arm64\" or platform_system != \"Darwin\"->tensorflow-text) (1.1.0)\n",
      "Requirement already satisfied: grpcio<2.0,>=1.24.3 in e:\\anaconda\\lib\\site-packages (from tensorflow<2.10,>=2.9.0; platform_machine != \"arm64\" or platform_system != \"Darwin\"->tensorflow-text) (1.43.0)\n",
      "Requirement already satisfied: keras-preprocessing>=1.1.1 in e:\\anaconda\\lib\\site-packages (from tensorflow<2.10,>=2.9.0; platform_machine != \"arm64\" or platform_system != \"Darwin\"->tensorflow-text) (1.1.2)\n",
      "Requirement already satisfied: setuptools in e:\\anaconda\\lib\\site-packages (from tensorflow<2.10,>=2.9.0; platform_machine != \"arm64\" or platform_system != \"Darwin\"->tensorflow-text) (49.2.0.post20200714)\n",
      "Requirement already satisfied: tensorflow-estimator<2.10.0,>=2.9.0rc0 in e:\\anaconda\\lib\\site-packages (from tensorflow<2.10,>=2.9.0; platform_machine != \"arm64\" or platform_system != \"Darwin\"->tensorflow-text) (2.9.0)Note: you may need to restart the kernel to use updated packages.\n",
      "\n",
      "Requirement already satisfied: gast<=0.4.0,>=0.2.1 in e:\\anaconda\\lib\\site-packages (from tensorflow<2.10,>=2.9.0; platform_machine != \"arm64\" or platform_system != \"Darwin\"->tensorflow-text) (0.4.0)\n",
      "Requirement already satisfied: h5py>=2.9.0 in e:\\anaconda\\lib\\site-packages (from tensorflow<2.10,>=2.9.0; platform_machine != \"arm64\" or platform_system != \"Darwin\"->tensorflow-text) (2.10.0)\n",
      "Requirement already satisfied: wrapt>=1.11.0 in e:\\anaconda\\lib\\site-packages (from tensorflow<2.10,>=2.9.0; platform_machine != \"arm64\" or platform_system != \"Darwin\"->tensorflow-text) (1.11.2)\n",
      "Requirement already satisfied: google-auth<3,>=1.6.3 in e:\\anaconda\\lib\\site-packages (from tensorboard<2.10,>=2.9->tensorflow<2.10,>=2.9.0; platform_machine != \"arm64\" or platform_system != \"Darwin\"->tensorflow-text) (2.3.3)\n",
      "Requirement already satisfied: markdown>=2.6.8 in e:\\anaconda\\lib\\site-packages (from tensorboard<2.10,>=2.9->tensorflow<2.10,>=2.9.0; platform_machine != \"arm64\" or platform_system != \"Darwin\"->tensorflow-text) (3.3.6)\n",
      "Requirement already satisfied: requests<3,>=2.21.0 in e:\\anaconda\\lib\\site-packages (from tensorboard<2.10,>=2.9->tensorflow<2.10,>=2.9.0; platform_machine != \"arm64\" or platform_system != \"Darwin\"->tensorflow-text) (2.28.1)\n",
      "Requirement already satisfied: tensorboard-data-server<0.7.0,>=0.6.0 in e:\\anaconda\\lib\\site-packages (from tensorboard<2.10,>=2.9->tensorflow<2.10,>=2.9.0; platform_machine != \"arm64\" or platform_system != \"Darwin\"->tensorflow-text) (0.6.1)\n",
      "Requirement already satisfied: tensorboard-plugin-wit>=1.6.0 in e:\\anaconda\\lib\\site-packages (from tensorboard<2.10,>=2.9->tensorflow<2.10,>=2.9.0; platform_machine != \"arm64\" or platform_system != \"Darwin\"->tensorflow-text) (1.8.0)\n",
      "Requirement already satisfied: google-auth-oauthlib<0.5,>=0.4.1 in e:\\anaconda\\lib\\site-packages (from tensorboard<2.10,>=2.9->tensorflow<2.10,>=2.9.0; platform_machine != \"arm64\" or platform_system != \"Darwin\"->tensorflow-text) (0.4.6)\n",
      "Requirement already satisfied: wheel>=0.26 in e:\\anaconda\\lib\\site-packages (from tensorboard<2.10,>=2.9->tensorflow<2.10,>=2.9.0; platform_machine != \"arm64\" or platform_system != \"Darwin\"->tensorflow-text) (0.34.2)\n",
      "Requirement already satisfied: werkzeug>=1.0.1 in e:\\anaconda\\lib\\site-packages (from tensorboard<2.10,>=2.9->tensorflow<2.10,>=2.9.0; platform_machine != \"arm64\" or platform_system != \"Darwin\"->tensorflow-text) (1.0.1)\n",
      "Requirement already satisfied: pyparsing>=2.0.2 in e:\\anaconda\\lib\\site-packages (from packaging->tensorflow<2.10,>=2.9.0; platform_machine != \"arm64\" or platform_system != \"Darwin\"->tensorflow-text) (2.4.7)\n",
      "Requirement already satisfied: cachetools<5.0,>=2.0.0 in e:\\anaconda\\lib\\site-packages (from google-auth<3,>=1.6.3->tensorboard<2.10,>=2.9->tensorflow<2.10,>=2.9.0; platform_machine != \"arm64\" or platform_system != \"Darwin\"->tensorflow-text) (4.2.4)\n",
      "Requirement already satisfied: pyasn1-modules>=0.2.1 in e:\\anaconda\\lib\\site-packages (from google-auth<3,>=1.6.3->tensorboard<2.10,>=2.9->tensorflow<2.10,>=2.9.0; platform_machine != \"arm64\" or platform_system != \"Darwin\"->tensorflow-text) (0.2.8)\n",
      "Requirement already satisfied: rsa<5,>=3.1.4; python_version >= \"3.6\" in e:\\anaconda\\lib\\site-packages (from google-auth<3,>=1.6.3->tensorboard<2.10,>=2.9->tensorflow<2.10,>=2.9.0; platform_machine != \"arm64\" or platform_system != \"Darwin\"->tensorflow-text) (4.8)\n",
      "Requirement already satisfied: importlib-metadata>=4.4; python_version < \"3.10\" in e:\\anaconda\\lib\\site-packages (from markdown>=2.6.8->tensorboard<2.10,>=2.9->tensorflow<2.10,>=2.9.0; platform_machine != \"arm64\" or platform_system != \"Darwin\"->tensorflow-text) (4.10.0)\n",
      "Requirement already satisfied: urllib3<1.27,>=1.21.1 in e:\\anaconda\\lib\\site-packages (from requests<3,>=2.21.0->tensorboard<2.10,>=2.9->tensorflow<2.10,>=2.9.0; platform_machine != \"arm64\" or platform_system != \"Darwin\"->tensorflow-text) (1.25.11)\n",
      "Requirement already satisfied: charset-normalizer<3,>=2 in e:\\anaconda\\lib\\site-packages (from requests<3,>=2.21.0->tensorboard<2.10,>=2.9->tensorflow<2.10,>=2.9.0; platform_machine != \"arm64\" or platform_system != \"Darwin\"->tensorflow-text) (2.1.0)\n",
      "Requirement already satisfied: idna<4,>=2.5 in e:\\anaconda\\lib\\site-packages (from requests<3,>=2.21.0->tensorboard<2.10,>=2.9->tensorflow<2.10,>=2.9.0; platform_machine != \"arm64\" or platform_system != \"Darwin\"->tensorflow-text) (2.10)\n",
      "Requirement already satisfied: certifi>=2017.4.17 in e:\\anaconda\\lib\\site-packages (from requests<3,>=2.21.0->tensorboard<2.10,>=2.9->tensorflow<2.10,>=2.9.0; platform_machine != \"arm64\" or platform_system != \"Darwin\"->tensorflow-text) (2020.6.20)\n",
      "Requirement already satisfied: requests-oauthlib>=0.7.0 in e:\\anaconda\\lib\\site-packages (from google-auth-oauthlib<0.5,>=0.4.1->tensorboard<2.10,>=2.9->tensorflow<2.10,>=2.9.0; platform_machine != \"arm64\" or platform_system != \"Darwin\"->tensorflow-text) (1.3.0)\n",
      "Requirement already satisfied: pyasn1<0.5.0,>=0.4.6 in e:\\anaconda\\lib\\site-packages (from pyasn1-modules>=0.2.1->google-auth<3,>=1.6.3->tensorboard<2.10,>=2.9->tensorflow<2.10,>=2.9.0; platform_machine != \"arm64\" or platform_system != \"Darwin\"->tensorflow-text) (0.4.8)\n",
      "Requirement already satisfied: zipp>=0.5 in e:\\anaconda\\lib\\site-packages (from importlib-metadata>=4.4; python_version < \"3.10\"->markdown>=2.6.8->tensorboard<2.10,>=2.9->tensorflow<2.10,>=2.9.0; platform_machine != \"arm64\" or platform_system != \"Darwin\"->tensorflow-text) (3.1.0)\n",
      "Requirement already satisfied: oauthlib>=3.0.0 in e:\\anaconda\\lib\\site-packages (from requests-oauthlib>=0.7.0->google-auth-oauthlib<0.5,>=0.4.1->tensorboard<2.10,>=2.9->tensorflow<2.10,>=2.9.0; platform_machine != \"arm64\" or platform_system != \"Darwin\"->tensorflow-text) (3.2.0)\n",
      "Installing collected packages: tensorflow-text\n",
      "Successfully installed tensorflow-text-2.9.0\n"
     ]
    }
   ],
   "source": [
    "pip install tensorflow-text"
   ]
  },
  {
   "cell_type": "code",
   "execution_count": 7,
   "metadata": {},
   "outputs": [],
   "source": [
    "preprocessor = 'https://tfhub.dev/tensorflow/bert_en_uncased_preprocess/3'\n",
    "encoder = 'https://tfhub.dev/tensorflow/bert_en_uncased_L-12_H-768_A-12/4'"
   ]
  },
  {
   "cell_type": "code",
   "execution_count": 17,
   "metadata": {},
   "outputs": [],
   "source": [
    "bert_preprocess_model = hub.KerasLayer(preprocessor)"
   ]
  },
  {
   "cell_type": "code",
   "execution_count": 18,
   "metadata": {},
   "outputs": [
    {
     "data": {
      "text/plain": [
       "dict_keys(['input_mask', 'input_type_ids', 'input_word_ids'])"
      ]
     },
     "execution_count": 18,
     "metadata": {},
     "output_type": "execute_result"
    }
   ],
   "source": [
    "text_test = ['it was a nice movie','I love python']\n",
    "text_preprocessed = bert_preprocess_model(text_test)\n",
    "text_preprocessed.keys()"
   ]
  },
  {
   "cell_type": "code",
   "execution_count": 19,
   "metadata": {},
   "outputs": [],
   "source": [
    "bert_model = hub.KerasLayer(encoder)"
   ]
  },
  {
   "cell_type": "code",
   "execution_count": 20,
   "metadata": {},
   "outputs": [
    {
     "data": {
      "text/plain": [
       "dict_keys(['default', 'sequence_output', 'encoder_outputs', 'pooled_output'])"
      ]
     },
     "execution_count": 20,
     "metadata": {},
     "output_type": "execute_result"
    }
   ],
   "source": [
    "bert_result = bert_model(text_preprocessed)\n",
    "bert_result.keys()"
   ]
  },
  {
   "cell_type": "code",
   "execution_count": null,
   "metadata": {},
   "outputs": [],
   "source": []
  }
 ],
 "metadata": {
  "kernelspec": {
   "display_name": "Python 3",
   "language": "python",
   "name": "python3"
  },
  "language_info": {
   "codemirror_mode": {
    "name": "ipython",
    "version": 3
   },
   "file_extension": ".py",
   "mimetype": "text/x-python",
   "name": "python",
   "nbconvert_exporter": "python",
   "pygments_lexer": "ipython3",
   "version": "3.8.3"
  }
 },
 "nbformat": 4,
 "nbformat_minor": 4
}
