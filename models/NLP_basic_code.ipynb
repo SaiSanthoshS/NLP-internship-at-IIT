{
 "cells": [
  {
   "cell_type": "code",
   "execution_count": 1,
   "metadata": {},
   "outputs": [
    {
     "name": "stdout",
     "output_type": "stream",
     "text": [
      "Requirement already satisfied: nltk in e:\\anaconda\\lib\\site-packages (3.5)\n",
      "Requirement already satisfied: tqdm in e:\\anaconda\\lib\\site-packages (from nltk) (4.47.0)\n",
      "Requirement already satisfied: joblib in e:\\anaconda\\lib\\site-packages (from nltk) (0.16.0)\n",
      "Requirement already satisfied: regex in e:\\anaconda\\lib\\site-packages (from nltk) (2020.6.8)\n",
      "Requirement already satisfied: click in e:\\anaconda\\lib\\site-packages (from nltk) (7.1.2)\n",
      "Note: you may need to restart the kernel to use updated packages.\n"
     ]
    }
   ],
   "source": [
    "pip install nltk"
   ]
  },
  {
   "cell_type": "markdown",
   "metadata": {},
   "source": [
    "**Tokenization of Words:**\n",
    "word_tokenize method is used to split a sentence into words\n",
    "sent_tokenize is used to split a sentence into sentences."
   ]
  },
  {
   "cell_type": "code",
   "execution_count": 4,
   "metadata": {},
   "outputs": [
    {
     "name": "stderr",
     "output_type": "stream",
     "text": [
      "[nltk_data] Downloading package punkt to\n",
      "[nltk_data]     C:\\Users\\SANDY\\AppData\\Roaming\\nltk_data...\n",
      "[nltk_data]   Package punkt is already up-to-date!\n",
      "[nltk_data] Downloading package wordnet to\n",
      "[nltk_data]     C:\\Users\\SANDY\\AppData\\Roaming\\nltk_data...\n",
      "[nltk_data]   Package wordnet is already up-to-date!\n",
      "[nltk_data] Downloading package stopwords to\n",
      "[nltk_data]     C:\\Users\\SANDY\\AppData\\Roaming\\nltk_data...\n",
      "[nltk_data]   Package stopwords is already up-to-date!\n",
      "[nltk_data] Downloading package abc to\n",
      "[nltk_data]     C:\\Users\\SANDY\\AppData\\Roaming\\nltk_data...\n",
      "[nltk_data]   Unzipping corpora\\abc.zip.\n"
     ]
    },
    {
     "data": {
      "text/plain": [
       "True"
      ]
     },
     "execution_count": 4,
     "metadata": {},
     "output_type": "execute_result"
    }
   ],
   "source": [
    "import nltk\n",
    "nltk.download('punkt')\n",
    "nltk.download('wordnet')\n",
    "nltk.download('stopwords')\n",
    "nltk.download('abc')"
   ]
  },
  {
   "cell_type": "code",
   "execution_count": 3,
   "metadata": {},
   "outputs": [
    {
     "name": "stdout",
     "output_type": "stream",
     "text": [
      "['This', 'is', 'a', 'cup', 'of', 'tea', '.', 'Would', 'you', 'like', 'to', 'have', 'some', 'tea', '?']\n",
      "['This is a cup of tea.', 'Would you like to have some tea?']\n"
     ]
    }
   ],
   "source": [
    "import nltk\n",
    "from nltk.tokenize import word_tokenize, sent_tokenize\n",
    "text = \"This is a cup of tea. Would you like to have some tea?\"\n",
    "print(word_tokenize(text))\n",
    "print(sent_tokenize(text))"
   ]
  },
  {
   "cell_type": "markdown",
   "metadata": {},
   "source": [
    "# **Stemming** #"
   ]
  },
  {
   "cell_type": "code",
   "execution_count": 1,
   "metadata": {},
   "outputs": [
    {
     "name": "stdout",
     "output_type": "stream",
     "text": [
      "wait\n",
      "wait\n",
      "wait\n",
      "indian\n"
     ]
    }
   ],
   "source": [
    "from nltk.stem import PorterStemmer\n",
    "words = [\"wait\", \"waiting\", \"waited\", \"Indian\"]\n",
    "ps = PorterStemmer()\n",
    "for w in words:\n",
    "    root = ps.stem(w)\n",
    "    print(root)"
   ]
  },
  {
   "cell_type": "code",
   "execution_count": 7,
   "metadata": {},
   "outputs": [
    {
     "name": "stdout",
     "output_type": "stream",
     "text": [
      "lemma for studies is study\n",
      "lemma for studying is studying\n",
      "lemma for cries is cry\n",
      "lemma for cry is cry\n"
     ]
    }
   ],
   "source": [
    "import nltk\n",
    "from nltk.stem import WordNetLemmatizer\n",
    "wl = WordNetLemmatizer()\n",
    "text = \"studies studying cries cry\"\n",
    "token = nltk.word_tokenize(text)\n",
    "for w in token:\n",
    "    print(\"lemma for {} is {}\".format(w,wl.lemmatize(w)))"
   ]
  },
  {
   "cell_type": "markdown",
   "metadata": {},
   "source": [
    "# Lemmatization \n",
    "is beter than stemming"
   ]
  },
  {
   "cell_type": "code",
   "execution_count": 15,
   "metadata": {},
   "outputs": [
    {
     "name": "stdout",
     "output_type": "stream",
     "text": [
      "['This', 'is', 'a', 'cup', 'of', 'tea', '.', 'Would', 'you', 'like', 'to', 'have', 'some', 'tea', '?']\n",
      "['This', 'cup', 'tea', '.', 'Would', 'like', 'tea', '?']\n"
     ]
    }
   ],
   "source": [
    "from nltk.tokenize import sent_tokenize, word_tokenize\n",
    "from nltk.corpus import stopwords\n",
    "data = \"This is a cup of tea. Would you like to have some tea?\"\n",
    "stopwords = set(stopwords.words('english'))\n",
    "word = word_tokenize(data)\n",
    "print(word)\n",
    "filtered = []\n",
    "for u in word:\n",
    "    if u not in stopwords:\n",
    "        filtered.append(u)\n",
    "        \n",
    "print(filtered)\n"
   ]
  },
  {
   "cell_type": "code",
   "execution_count": 16,
   "metadata": {},
   "outputs": [
    {
     "name": "stdout",
     "output_type": "stream",
     "text": [
      "179\n"
     ]
    }
   ],
   "source": [
    "print(len(stopwords))"
   ]
  },
  {
   "cell_type": "code",
   "execution_count": 17,
   "metadata": {},
   "outputs": [
    {
     "name": "stdout",
     "output_type": "stream",
     "text": [
      "{'why', 'here', 'have', 'not', 'do', 'the', 'off', 'is', 'some', \"mustn't\", 'each', 'she', 'this', 'shouldn', 'most', 'myself', 'these', 'same', 'he', 'does', 'if', 'any', 'him', 'it', \"you'll\", 'isn', 'no', 'ourselves', 'just', 't', 'you', 'doing', 'd', \"hadn't\", \"it's\", 'there', 'for', 'hadn', 'under', 'whom', 'against', 'had', \"don't\", 'am', 'wasn', 'in', 'being', 'an', 'through', \"won't\", 're', 'doesn', 'itself', 'me', 'into', \"you're\", 'don', \"you've\", \"aren't\", 'couldn', \"you'd\", \"should've\", 'haven', 'after', 'above', 'at', 'such', \"that'll\", 'been', 'or', 'ma', 'weren', 'himself', 'shan', 'too', 'll', 'until', 'to', 'yourself', 'were', 'our', 'on', 'who', 'nor', 'can', 'mightn', \"wouldn't\", \"hasn't\", 'below', 'ours', 'than', 'out', 'wouldn', 'themselves', 'so', 'which', 'a', 'both', \"haven't\", 'what', 'more', 'yours', 'i', 's', 'because', 'as', 'y', 'theirs', 'my', 'its', 'from', 'up', 'her', 'their', \"shan't\", 'those', 'over', 'during', 'only', 'now', 'they', 'won', 'o', 'his', \"mightn't\", 'needn', \"she's\", \"weren't\", 'didn', 've', 'your', 'further', 'that', \"isn't\", 'where', \"doesn't\", 'are', 'but', 'having', 'about', 'by', 'of', 'was', 'we', 'other', 'while', 'few', 'and', 'has', 'again', 'be', 'aren', 'hasn', 'mustn', 'yourselves', 'once', 'm', \"needn't\", 'then', 'them', 'herself', 'before', 'when', 'how', 'hers', 'between', 'down', 'all', 'own', 'very', \"wasn't\", 'with', 'ain', 'will', 'did', 'should', \"couldn't\", \"shouldn't\", \"didn't\"}\n"
     ]
    }
   ],
   "source": [
    "print(stopwords)"
   ]
  },
  {
   "cell_type": "markdown",
   "metadata": {},
   "source": [
    "# Bag of words #\n",
    "\n",
    "A bag of words is a representation of text that decribes the occurence of words within a document"
   ]
  },
  {
   "cell_type": "code",
   "execution_count": 20,
   "metadata": {},
   "outputs": [
    {
     "name": "stdout",
     "output_type": "stream",
     "text": [
      "  (0, 4)\t1\n",
      "  (0, 3)\t1\n",
      "  (0, 1)\t1\n",
      "  (1, 1)\t1\n",
      "  (1, 2)\t1\n",
      "  (1, 0)\t1\n"
     ]
    },
    {
     "data": {
      "text/html": [
       "<div>\n",
       "<style scoped>\n",
       "    .dataframe tbody tr th:only-of-type {\n",
       "        vertical-align: middle;\n",
       "    }\n",
       "\n",
       "    .dataframe tbody tr th {\n",
       "        vertical-align: top;\n",
       "    }\n",
       "\n",
       "    .dataframe thead th {\n",
       "        text-align: right;\n",
       "    }\n",
       "</style>\n",
       "<table border=\"1\" class=\"dataframe\">\n",
       "  <thead>\n",
       "    <tr style=\"text-align: right;\">\n",
       "      <th></th>\n",
       "      <th>great</th>\n",
       "      <th>india</th>\n",
       "      <th>is</th>\n",
       "      <th>love</th>\n",
       "      <th>we</th>\n",
       "    </tr>\n",
       "  </thead>\n",
       "  <tbody>\n",
       "    <tr>\n",
       "      <th>0</th>\n",
       "      <td>0</td>\n",
       "      <td>1</td>\n",
       "      <td>0</td>\n",
       "      <td>1</td>\n",
       "      <td>1</td>\n",
       "    </tr>\n",
       "    <tr>\n",
       "      <th>1</th>\n",
       "      <td>1</td>\n",
       "      <td>1</td>\n",
       "      <td>1</td>\n",
       "      <td>0</td>\n",
       "      <td>0</td>\n",
       "    </tr>\n",
       "  </tbody>\n",
       "</table>\n",
       "</div>"
      ],
      "text/plain": [
       "   great  india  is  love  we\n",
       "0      0      1   0     1   1\n",
       "1      1      1   1     0   0"
      ]
     },
     "execution_count": 20,
     "metadata": {},
     "output_type": "execute_result"
    }
   ],
   "source": [
    "from sklearn.feature_extraction.text import CountVectorizer\n",
    "import pandas as pd\n",
    "\n",
    "content = \"\"\"We love India.\n",
    "India is great\"\"\"\n",
    "\n",
    "cv = CountVectorizer()\n",
    "\n",
    "bag_of_words = cv.fit_transform(content.splitlines())\n",
    "\n",
    "print(bag_of_words)\n",
    "\n",
    "pd.DataFrame(bag_of_words.toarray(), columns = cv.get_feature_names())"
   ]
  },
  {
   "cell_type": "markdown",
   "metadata": {},
   "source": [
    "# Frequency Distribution Plot\n",
    "\n",
    "is used to find the frequency of each word in a document\n"
   ]
  },
  {
   "cell_type": "code",
   "execution_count": 23,
   "metadata": {},
   "outputs": [
    {
     "data": {
      "image/png": "[encoded data removed]",
      "text/plain": [
       "<Figure size 640x480 with 1 Axes>"
      ]
     },
     "metadata": {},
     "output_type": "display_data"
    },
    {
     "data": {
      "text/plain": [
       "<matplotlib.axes._subplots.AxesSubplot at 0x246063d7f70>"
      ]
     },
     "execution_count": 23,
     "metadata": {},
     "output_type": "execute_result"
    }
   ],
   "source": [
    "import nltk\n",
    "import matplotlib.pyplot as plt\n",
    "content = \"A teacher is a person who not only teaches academic subject or any course, but he also changes the overall life of a student. A teacher focuses on the personality of the students and tries to remove the inner darkness of illiteracy and fills the light of knowledge in the inner will of his students.\"\n",
    "words = nltk.tokenize.word_tokenize(content)\n",
    "fd = nltk.FreqDist(words)\n",
    "fd.plot()"
   ]
  },
  {
   "cell_type": "markdown",
   "metadata": {},
   "source": [
    "# Remove Punctuation\n",
    "\n",
    "We dont want any punctuations in a NLP model\n"
   ]
  },
  {
   "cell_type": "code",
   "execution_count": 24,
   "metadata": {},
   "outputs": [
    {
     "name": "stdout",
     "output_type": "stream",
     "text": [
      "Note: you may need to restart the kernel to use updated packages.\n"
     ]
    },
    {
     "name": "stderr",
     "output_type": "stream",
     "text": [
      "ERROR: Could not find a version that satisfies the requirement re (from versions: none)\n",
      "ERROR: No matching distribution found for re\n"
     ]
    }
   ],
   "source": [
    "pip install re"
   ]
  },
  {
   "cell_type": "code",
   "execution_count": 27,
   "metadata": {},
   "outputs": [
    {
     "data": {
      "text/plain": [
       "'A teacher is a person who not only teaches academic subject or any course, but he also changes the overall life of a student. A teacher focuses on the personality of the students and tries to remove the inner darkness of illiteracy and fills the light of knowledge in the inner will of his students.'"
      ]
     },
     "execution_count": 27,
     "metadata": {},
     "output_type": "execute_result"
    }
   ],
   "source": [
    "import re\n",
    "sent  = \"A teacher is a person who not only teaches academic subject or any course, but he also changes the overall life of a student. A teacher focuses on the personality of the students and tries to remove the inner darkness of illiteracy and fills the light of knowledge in the inner will of his students.\"\n",
    "\n",
    "sent = re.sub(r'@[A-Za-z0-9]+','',sent) #sub stands for substitution.\n",
    "\n",
    "sent"
   ]
  },
  {
   "cell_type": "markdown",
   "metadata": {},
   "source": [
    "**Sentiment Analysis** - urls can be removed by using the sub method. this is helpful to analyze the required data."
   ]
  },
  {
   "cell_type": "code",
   "execution_count": 28,
   "metadata": {},
   "outputs": [
    {
     "name": "stdout",
     "output_type": "stream",
     "text": [
      "  I am like you\n"
     ]
    }
   ],
   "source": [
    "pat1 = r'@[A-Za-z0-9]+'\n",
    "pat2 = r'https://[A-Za-z0-9./]+'\n",
    "\n",
    "combine = r'|'.join((pat1,pat2))\n",
    "\n",
    "def text_cleaner(text):\n",
    "    strip = re.sub(combine, '', text)\n",
    "    print(strip)\n",
    "    \n",
    "text_cleaner(\"https://www.teachingbanyan.com/ @hui I am like you\")"
   ]
  },
  {
   "cell_type": "markdown",
   "metadata": {},
   "source": [
    "# Collocations\n",
    "\n",
    "Refer to the notes"
   ]
  },
  {
   "cell_type": "code",
   "execution_count": 31,
   "metadata": {},
   "outputs": [
    {
     "name": "stdout",
     "output_type": "stream",
     "text": [
      "(('A', 'teacher'), ('teacher', 'is'), ('is', 'a'), ('a', 'person'), ('person', 'who'), ('who', 'not'), ('not', 'only'), ('only', 'teaches'), ('teaches', 'academic'), ('academic', 'subject'), ('subject', 'or'), ('or', 'any'), ('any', 'course'), ('course', ','), (',', 'but'), ('but', 'he'), ('he', 'also'), ('also', 'changes'), ('changes', 'the'), ('the', 'overall'), ('overall', 'life'), ('life', 'of'), ('of', 'a'), ('a', 'student'), ('student', '.'), ('.', 'A'), ('A', 'teacher'), ('teacher', 'focuses'), ('focuses', 'on'), ('on', 'the'), ('the', 'personality'), ('personality', 'of'), ('of', 'the'), ('the', 'students'), ('students', 'and'), ('and', 'tries'), ('tries', 'to'), ('to', 'remove'), ('remove', 'the'), ('the', 'inner'), ('inner', 'darkness'), ('darkness', 'of'), ('of', 'illiteracy'), ('illiteracy', 'and'), ('and', 'fills'), ('fills', 'the'), ('the', 'light'), ('light', 'of'), ('of', 'knowledge'), ('knowledge', 'in'), ('in', 'the'), ('the', 'inner'), ('inner', 'will'), ('will', 'of'), ('of', 'his'), ('his', 'students'), ('students', '.'))\n"
     ]
    }
   ],
   "source": [
    "import nltk\n",
    "\n",
    "text = \"A teacher is a person who not only teaches academic subject or any course, but he also changes the overall life of a student. A teacher focuses on the personality of the students and tries to remove the inner darkness of illiteracy and fills the light of knowledge in the inner will of his students.\"\n",
    "\n",
    "token = nltk.word_tokenize(text)\n",
    "\n",
    "output = tuple(nltk.bigrams(token))\n",
    "\n",
    "print(output)"
   ]
  },
  {
   "cell_type": "code",
   "execution_count": 32,
   "metadata": {},
   "outputs": [
    {
     "name": "stdout",
     "output_type": "stream",
     "text": [
      "(('A', 'teacher', 'is'), ('teacher', 'is', 'a'), ('is', 'a', 'person'), ('a', 'person', 'who'), ('person', 'who', 'not'), ('who', 'not', 'only'), ('not', 'only', 'teaches'), ('only', 'teaches', 'academic'), ('teaches', 'academic', 'subject'), ('academic', 'subject', 'or'), ('subject', 'or', 'any'), ('or', 'any', 'course'), ('any', 'course', ','), ('course', ',', 'but'), (',', 'but', 'he'), ('but', 'he', 'also'), ('he', 'also', 'changes'), ('also', 'changes', 'the'), ('changes', 'the', 'overall'), ('the', 'overall', 'life'), ('overall', 'life', 'of'), ('life', 'of', 'a'), ('of', 'a', 'student'), ('a', 'student', '.'), ('student', '.', 'A'), ('.', 'A', 'teacher'), ('A', 'teacher', 'focuses'), ('teacher', 'focuses', 'on'), ('focuses', 'on', 'the'), ('on', 'the', 'personality'), ('the', 'personality', 'of'), ('personality', 'of', 'the'), ('of', 'the', 'students'), ('the', 'students', 'and'), ('students', 'and', 'tries'), ('and', 'tries', 'to'), ('tries', 'to', 'remove'), ('to', 'remove', 'the'), ('remove', 'the', 'inner'), ('the', 'inner', 'darkness'), ('inner', 'darkness', 'of'), ('darkness', 'of', 'illiteracy'), ('of', 'illiteracy', 'and'), ('illiteracy', 'and', 'fills'), ('and', 'fills', 'the'), ('fills', 'the', 'light'), ('the', 'light', 'of'), ('light', 'of', 'knowledge'), ('of', 'knowledge', 'in'), ('knowledge', 'in', 'the'), ('in', 'the', 'inner'), ('the', 'inner', 'will'), ('inner', 'will', 'of'), ('will', 'of', 'his'), ('of', 'his', 'students'), ('his', 'students', '.'))\n"
     ]
    }
   ],
   "source": [
    "import nltk\n",
    "\n",
    "text = \"A teacher is a person who not only teaches academic subject or any course, but he also changes the overall life of a student. A teacher focuses on the personality of the students and tries to remove the inner darkness of illiteracy and fills the light of knowledge in the inner will of his students.\"\n",
    "\n",
    "token = nltk.word_tokenize(text)\n",
    "\n",
    "output = tuple(nltk.trigrams(token))\n",
    "\n",
    "print(output)"
   ]
  },
  {
   "cell_type": "markdown",
   "metadata": {},
   "source": [
    "# Program to count frequency of words"
   ]
  },
  {
   "cell_type": "code",
   "execution_count": 33,
   "metadata": {},
   "outputs": [
    {
     "data": {
      "text/plain": [
       "['A',\n",
       " 'teacher',\n",
       " 'is',\n",
       " 'a',\n",
       " 'person',\n",
       " 'who',\n",
       " 'not',\n",
       " 'only',\n",
       " 'teaches',\n",
       " 'academic',\n",
       " 'subject',\n",
       " 'or',\n",
       " 'any',\n",
       " 'course,',\n",
       " 'but',\n",
       " 'he',\n",
       " 'also',\n",
       " 'changes',\n",
       " 'the',\n",
       " 'overall',\n",
       " 'life',\n",
       " 'of',\n",
       " 'a',\n",
       " 'student.',\n",
       " 'A',\n",
       " 'teacher',\n",
       " 'focuses',\n",
       " 'on',\n",
       " 'the',\n",
       " 'personality',\n",
       " 'of',\n",
       " 'the',\n",
       " 'students',\n",
       " 'and',\n",
       " 'tries',\n",
       " 'to',\n",
       " 'remove',\n",
       " 'the',\n",
       " 'inner',\n",
       " 'darkness',\n",
       " 'of',\n",
       " 'illiteracy',\n",
       " 'and',\n",
       " 'fills',\n",
       " 'the',\n",
       " 'light',\n",
       " 'of',\n",
       " 'knowledge',\n",
       " 'in',\n",
       " 'the',\n",
       " 'inner',\n",
       " 'will',\n",
       " 'of',\n",
       " 'his',\n",
       " 'students.']"
      ]
     },
     "execution_count": 33,
     "metadata": {},
     "output_type": "execute_result"
    }
   ],
   "source": [
    "word = \"A teacher is a person who not only teaches academic subject or any course, but he also changes the overall life of a student. A teacher focuses on the personality of the students and tries to remove the inner darkness of illiteracy and fills the light of knowledge in the inner will of his students.\"\n",
    "\n",
    "wordlist = word.split()\n",
    "\n",
    "wordlist"
   ]
  },
  {
   "cell_type": "code",
   "execution_count": 34,
   "metadata": {},
   "outputs": [
    {
     "name": "stdout",
     "output_type": "stream",
     "text": [
      "[2, 2, 1, 2, 1, 1, 1, 1, 1, 1, 1, 1, 1, 1, 1, 1, 1, 1, 6, 1, 1, 5, 2, 1, 2, 2, 1, 1, 6, 1, 5, 6, 1, 2, 1, 1, 1, 6, 2, 1, 5, 1, 2, 1, 6, 1, 5, 1, 1, 6, 2, 1, 5, 1, 1]\n"
     ]
    }
   ],
   "source": [
    "wordfreq = []\n",
    "\n",
    "for w in wordlist:\n",
    "    wordfreq.append(wordlist.count(w))\n",
    "    \n",
    "print(wordfreq)"
   ]
  },
  {
   "cell_type": "code",
   "execution_count": 35,
   "metadata": {},
   "outputs": [
    {
     "name": "stdout",
     "output_type": "stream",
     "text": [
      "Pairs (('A', 2), ('teacher', 2), ('is', 1), ('a', 2), ('person', 1), ('who', 1), ('not', 1), ('only', 1), ('teaches', 1), ('academic', 1), ('subject', 1), ('or', 1), ('any', 1), ('course,', 1), ('but', 1), ('he', 1), ('also', 1), ('changes', 1), ('the', 6), ('overall', 1), ('life', 1), ('of', 5), ('a', 2), ('student.', 1), ('A', 2), ('teacher', 2), ('focuses', 1), ('on', 1), ('the', 6), ('personality', 1), ('of', 5), ('the', 6), ('students', 1), ('and', 2), ('tries', 1), ('to', 1), ('remove', 1), ('the', 6), ('inner', 2), ('darkness', 1), ('of', 5), ('illiteracy', 1), ('and', 2), ('fills', 1), ('the', 6), ('light', 1), ('of', 5), ('knowledge', 1), ('in', 1), ('the', 6), ('inner', 2), ('will', 1), ('of', 5), ('his', 1), ('students.', 1))\n"
     ]
    }
   ],
   "source": [
    "print(\"Pairs \" + str(tuple(zip(wordlist, wordfreq))))"
   ]
  },
  {
   "cell_type": "markdown",
   "metadata": {},
   "source": [
    "# Calculating Frequencies of Bigram"
   ]
  },
  {
   "cell_type": "code",
   "execution_count": 40,
   "metadata": {},
   "outputs": [
    {
     "data": {
      "text/plain": [
       "[(('A', 'teacher'), 2),\n",
       " (('the', 'inner'), 2),\n",
       " (('teacher', 'is'), 1),\n",
       " (('is', 'a'), 1),\n",
       " (('a', 'person'), 1),\n",
       " (('person', 'who'), 1),\n",
       " (('who', 'not'), 1),\n",
       " (('not', 'only'), 1),\n",
       " (('only', 'teaches'), 1),\n",
       " (('teaches', 'academic'), 1),\n",
       " (('academic', 'subject'), 1),\n",
       " (('subject', 'or'), 1),\n",
       " (('or', 'any'), 1),\n",
       " (('any', 'course,'), 1),\n",
       " (('course,', 'but'), 1),\n",
       " (('but', 'he'), 1),\n",
       " (('he', 'also'), 1),\n",
       " (('also', 'changes'), 1),\n",
       " (('changes', 'the'), 1),\n",
       " (('the', 'overall'), 1),\n",
       " (('overall', 'life'), 1),\n",
       " (('life', 'of'), 1),\n",
       " (('of', 'a'), 1),\n",
       " (('a', 'student.'), 1),\n",
       " (('student.', 'A'), 1),\n",
       " (('teacher', 'focuses'), 1),\n",
       " (('focuses', 'on'), 1),\n",
       " (('on', 'the'), 1),\n",
       " (('the', 'personality'), 1),\n",
       " (('personality', 'of'), 1),\n",
       " (('of', 'the'), 1),\n",
       " (('the', 'students'), 1),\n",
       " (('students', 'and'), 1),\n",
       " (('and', 'tries'), 1),\n",
       " (('tries', 'to'), 1),\n",
       " (('to', 'remove'), 1),\n",
       " (('remove', 'the'), 1),\n",
       " (('inner', 'darkness'), 1),\n",
       " (('darkness', 'of'), 1),\n",
       " (('of', 'illiteracy'), 1),\n",
       " (('illiteracy', 'and'), 1),\n",
       " (('and', 'fills'), 1),\n",
       " (('fills', 'the'), 1),\n",
       " (('the', 'light'), 1),\n",
       " (('light', 'of'), 1),\n",
       " (('of', 'knowledge'), 1),\n",
       " (('knowledge', 'in'), 1),\n",
       " (('in', 'the'), 1),\n",
       " (('inner', 'will'), 1),\n",
       " (('will', 'of'), 1),\n",
       " (('of', 'his'), 1),\n",
       " (('his', 'students.'), 1)]"
      ]
     },
     "execution_count": 40,
     "metadata": {},
     "output_type": "execute_result"
    }
   ],
   "source": [
    "import nltk\n",
    "from nltk.util import ngrams\n",
    "from nltk.collocations import BigramCollocationFinder\n",
    "from nltk.metrics import BigramAssocMeasures\n",
    "\n",
    "wordstring = \"A teacher is a person who not only teaches academic subject or any course, but he also changes the overall life of a student. A teacher focuses on the personality of the students and tries to remove the inner darkness of illiteracy and fills the light of knowledge in the inner will of his students.\"\n",
    "\n",
    "wordlist = wordstring.split()\n",
    "\n",
    "bigram_fd = nltk.FreqDist(nltk.bigrams(wordlist))\n",
    "\n",
    "bigram_fd.most_common()\n",
    "\n",
    "#bigram_fd.most_common(1) # Displays the top most bigram\n"
   ]
  },
  {
   "cell_type": "markdown",
   "metadata": {},
   "source": [
    "# Calculating Frequencies of Trigrams"
   ]
  },
  {
   "cell_type": "code",
   "execution_count": 42,
   "metadata": {},
   "outputs": [
    {
     "data": {
      "text/plain": [
       "[(('A', 'teacher', 'is'), 1),\n",
       " (('teacher', 'is', 'a'), 1),\n",
       " (('is', 'a', 'person'), 1),\n",
       " (('a', 'person', 'who'), 1),\n",
       " (('person', 'who', 'not'), 1),\n",
       " (('who', 'not', 'only'), 1),\n",
       " (('not', 'only', 'teaches'), 1),\n",
       " (('only', 'teaches', 'academic'), 1),\n",
       " (('teaches', 'academic', 'subject'), 1),\n",
       " (('academic', 'subject', 'or'), 1),\n",
       " (('subject', 'or', 'any'), 1),\n",
       " (('or', 'any', 'course,'), 1),\n",
       " (('any', 'course,', 'but'), 1),\n",
       " (('course,', 'but', 'he'), 1),\n",
       " (('but', 'he', 'also'), 1),\n",
       " (('he', 'also', 'changes'), 1),\n",
       " (('also', 'changes', 'the'), 1),\n",
       " (('changes', 'the', 'overall'), 1),\n",
       " (('the', 'overall', 'life'), 1),\n",
       " (('overall', 'life', 'of'), 1),\n",
       " (('life', 'of', 'a'), 1),\n",
       " (('of', 'a', 'student.'), 1),\n",
       " (('a', 'student.', 'A'), 1),\n",
       " (('student.', 'A', 'teacher'), 1),\n",
       " (('A', 'teacher', 'focuses'), 1),\n",
       " (('teacher', 'focuses', 'on'), 1),\n",
       " (('focuses', 'on', 'the'), 1),\n",
       " (('on', 'the', 'personality'), 1),\n",
       " (('the', 'personality', 'of'), 1),\n",
       " (('personality', 'of', 'the'), 1),\n",
       " (('of', 'the', 'students'), 1),\n",
       " (('the', 'students', 'and'), 1),\n",
       " (('students', 'and', 'tries'), 1),\n",
       " (('and', 'tries', 'to'), 1),\n",
       " (('tries', 'to', 'remove'), 1),\n",
       " (('to', 'remove', 'the'), 1),\n",
       " (('remove', 'the', 'inner'), 1),\n",
       " (('the', 'inner', 'darkness'), 1),\n",
       " (('inner', 'darkness', 'of'), 1),\n",
       " (('darkness', 'of', 'illiteracy'), 1),\n",
       " (('of', 'illiteracy', 'and'), 1),\n",
       " (('illiteracy', 'and', 'fills'), 1),\n",
       " (('and', 'fills', 'the'), 1),\n",
       " (('fills', 'the', 'light'), 1),\n",
       " (('the', 'light', 'of'), 1),\n",
       " (('light', 'of', 'knowledge'), 1),\n",
       " (('of', 'knowledge', 'in'), 1),\n",
       " (('knowledge', 'in', 'the'), 1),\n",
       " (('in', 'the', 'inner'), 1),\n",
       " (('the', 'inner', 'will'), 1),\n",
       " (('inner', 'will', 'of'), 1),\n",
       " (('will', 'of', 'his'), 1),\n",
       " (('of', 'his', 'students.'), 1)]"
      ]
     },
     "execution_count": 42,
     "metadata": {},
     "output_type": "execute_result"
    }
   ],
   "source": [
    "import nltk\n",
    "from nltk.util import ngrams\n",
    "from nltk.collocations import BigramCollocationFinder\n",
    "from nltk.metrics import BigramAssocMeasures\n",
    "\n",
    "wordstring = \"A teacher is a person who not only teaches academic subject or any course, but he also changes the overall life of a student. A teacher focuses on the personality of the students and tries to remove the inner darkness of illiteracy and fills the light of knowledge in the inner will of his students.\"\n",
    "\n",
    "wordlist = wordstring.split()\n",
    "\n",
    "trigram_fd = nltk.FreqDist(nltk.trigrams(wordlist))\n",
    "\n",
    "trigram_fd.most_common()\n",
    "\n",
    "#bigram_fd.most_common(1) # Displays the top most bigram"
   ]
  },
  {
   "cell_type": "markdown",
   "metadata": {},
   "source": [
    "# word2Vec model\n",
    "\n",
    "refer to the notes about the model\n",
    "\n",
    "Gensim is an open-source library for unsupervised topic modeling, document indexing, retrieval by similarity, and other natural language processing functionalities, using modern statistical machine learning.\n",
    "\n",
    "the third package consists of a corpus(group of words)"
   ]
  },
  {
   "cell_type": "code",
   "execution_count": 2,
   "metadata": {},
   "outputs": [
    {
     "name": "stdout",
     "output_type": "stream",
     "text": [
      "Collecting gensim\n",
      "  Using cached gensim-4.2.0-cp38-cp38-win_amd64.whl (24.0 MB)\n",
      "Collecting smart-open>=1.8.1\n",
      "  Using cached smart_open-6.0.0-py3-none-any.whl (58 kB)Note: you may need to restart the kernel to use updated packages.\n",
      "\n",
      "Requirement already satisfied: scipy>=0.18.1 in e:\\anaconda\\lib\\site-packages (from gensim) (1.5.0)\n",
      "Collecting Cython==0.29.28\n",
      "  Using cached Cython-0.29.28-py2.py3-none-any.whl (983 kB)\n",
      "Requirement already satisfied: numpy>=1.17.0 in e:\\anaconda\\lib\\site-packages (from gensim) (1.18.5)\n",
      "Installing collected packages: smart-open, Cython, gensim\n",
      "Successfully installed Cython-0.29.28 gensim-4.2.0 smart-open-6.0.0\n"
     ]
    }
   ],
   "source": [
    "pip install gensim"
   ]
  },
  {
   "cell_type": "code",
   "execution_count": 8,
   "metadata": {},
   "outputs": [
    {
     "name": "stdout",
     "output_type": "stream",
     "text": [
      "[('law', 0.9348494410514832), ('policy', 0.9129685163497925), ('general', 0.9111655950546265), ('agriculture', 0.9049606919288635), ('discussion', 0.903911292552948), ('education', 0.903827965259552), ('media', 0.9017788171768188), ('biology', 0.8982457518577576), ('department', 0.8980659246444702), ('physics', 0.8975790143013)]\n",
      "10363\n"
     ]
    }
   ],
   "source": [
    "import nltk\n",
    "import gensim\n",
    "from nltk.corpus import abc\n",
    "\n",
    "#model is imported using genism\n",
    "model = gensim.models.Word2Vec(abc.sents())\n",
    "\n",
    "#Vocabulary is stored in the form of a variable\n",
    "X = list(model.wv.index_to_key)\n",
    "\n",
    "#the word which is similar to science is found\n",
    "data = model.wv.most_similar('science')\n",
    "\n",
    "print(data)\n",
    "\n",
    "print(len(X))"
   ]
  },
  {
   "cell_type": "code",
   "execution_count": null,
   "metadata": {},
   "outputs": [],
   "source": []
  }
 ],
 "metadata": {
  "kernelspec": {
   "display_name": "Python 3",
   "language": "python",
   "name": "python3"
  },
  "language_info": {
   "codemirror_mode": {
    "name": "ipython",
    "version": 3
   },
   "file_extension": ".py",
   "mimetype": "text/x-python",
   "name": "python",
   "nbconvert_exporter": "python",
   "pygments_lexer": "ipython3",
   "version": "3.8.3"
  }
 },
 "nbformat": 4,
 "nbformat_minor": 4
}
