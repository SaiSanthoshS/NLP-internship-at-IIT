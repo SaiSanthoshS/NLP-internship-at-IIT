{
 "cells": [
  {
   "cell_type": "markdown",
   "metadata": {},
   "source": [
    "# 1. Data collection\n",
    "\n",
    "This is the first step in which data is collected and it will mostly be in json format.\n",
    "Refer notes for depth understanding.\n",
    "\n",
    "Our data is in the folder: C:\\Users\\SANDY\\Dropbox\\My PC (LAPTOP-3KKFOMEI)\\Desktop\\IIT-G Internship\\chatbot_dataset\\intents.json"
   ]
  },
  {
   "cell_type": "code",
   "execution_count": 14,
   "metadata": {},
   "outputs": [
    {
     "name": "stdout",
     "output_type": "stream",
     "text": [
      "<class 'list'>\n"
     ]
    }
   ],
   "source": [
    "import json\n",
    "json_file = 'intents.json'\n",
    "with open('intents.json', 'r') as f:\n",
    "    data = json.load(f)\n",
    "    \n",
    "print(type(data))"
   ]
  },
  {
   "cell_type": "code",
   "execution_count": 30,
   "metadata": {},
   "outputs": [
    {
     "data": {
      "text/plain": [
       "0     Hi there, How are you, Is anyone there?, Hey, ...\n",
       "1     Bye, See you later, Goodbye, Nice chatting to ...\n",
       "2     Thanks, Thank you, That's helpful, Awesome, th...\n",
       "3                                                      \n",
       "4     How you could help me?, What help you provide?...\n",
       "5     where is order with id 431B67?, track order 56...\n",
       "6     order id 345A23 comprises of?, List of components\n",
       "7     where is the order, where is my order, locate ...\n",
       "8     find order location 32712, What is the Locatio...\n",
       "9     I want an appoitment with Manoj kumar, set an ...\n",
       "10    Is my appointment fixed?, Do I have an appoint...\n",
       "11    Is Sujata Nandi on leave?, Is Manish Kumar on ...\n",
       "12    Cost Lowering changes to be made?, what change...\n",
       "13    I forgot my Login password?, what to do when s...\n",
       "14                        abx@gmail.com, abc@kiit.ac.in\n",
       "15                        Find me a manufacturer nearby\n",
       "16    I want to know the various departments in this...\n",
       "17    what are challenging events, what are the thre...\n",
       "18     Our Target customers, who are your key customers\n",
       "19            What information is shared with supplier?\n",
       "20                What is the highest grossing product?\n",
       "21    I want to meet the head of HR/IT/Projects depa...\n",
       "22    complaint has been raised for Insufficient Tea...\n",
       "23    Lack of product clarity, the specifications of...\n",
       "24    user needs the updated software version, user ...\n",
       "25    problem related to Job design and analysis, qu...\n",
       "26    Impact on sale?, factors impacting sale this y...\n",
       "27    how have we improved our sale from last year?,...\n",
       "28    how was the customer response, Is the customer...\n",
       "29                maintainence related queries recorded\n",
       "30    what are the gadgets in stock?, which products...\n",
       "31    what is the Commission rate?, Commission rate ...\n",
       "32    Marry me, I love You, date me, chat with me, I...\n",
       "33                               why, how, when, I, you\n",
       "34      what is the turnover of the company at present?\n",
       "35                           why is order 23A12 delayed\n",
       "36                           why is order 23A12 delayed\n",
       "37          what is your name?, what should I call you?\n",
       "38                          how you doing?, how are you\n",
       "39    How to configure my laptop, software configura...\n",
       "40                           what is the weather today?\n",
       "41    Is Michel Sharma on leave?, Is Siddhart Roy pr...\n",
       "42    Opening hours of the cafeteria?, when does the...\n",
       "43    where is VP cabin?, Where is Head IT cabin?, W...\n",
       "44    How to improve team members domain knowledge, ...\n",
       "Name: patterns, dtype: object"
      ]
     },
     "execution_count": 30,
     "metadata": {},
     "output_type": "execute_result"
    }
   ],
   "source": [
    "#now the data is imported and it is converted into dataframe\n",
    "import pandas as pd\n",
    "work_df = pd.DataFrame(data)\n",
    "work_df['patterns'] = work_df['patterns'].apply(', '.join) # the patterns are joined using comma\n",
    "work_df['patterns']"
   ]
  },
  {
   "cell_type": "markdown",
   "metadata": {},
   "source": [
    "# 2) Data Cleaning - Preprocessing"
   ]
  },
  {
   "cell_type": "code",
   "execution_count": 18,
   "metadata": {},
   "outputs": [
    {
     "name": "stdout",
     "output_type": "stream",
     "text": [
      "Collecting textblob\n",
      "  Downloading textblob-0.17.1-py2.py3-none-any.whl (636 kB)\n",
      "Requirement already satisfied: nltk>=3.1; python_version >= \"3\" in e:\\anaconda\\lib\\site-packages (from textblob) (3.5)\n",
      "Requirement already satisfied: click in e:\\anaconda\\lib\\site-packages (from nltk>=3.1; python_version >= \"3\"->textblob) (7.1.2)\n",
      "Requirement already satisfied: joblib in e:\\anaconda\\lib\\site-packages (from nltk>=3.1; python_version >= \"3\"->textblob) (0.16.0)\n",
      "Requirement already satisfied: regex in e:\\anaconda\\lib\\site-packages (from nltk>=3.1; python_version >= \"3\"->textblob) (2020.6.8)\n",
      "Requirement already satisfied: tqdm in e:\\anaconda\\lib\\site-packages (from nltk>=3.1; python_version >= \"3\"->textblob) (4.47.0)\n",
      "Installing collected packages: textblob\n",
      "Successfully installed textblob-0.17.1\n",
      "Note: you may need to restart the kernel to use updated packages.\n"
     ]
    }
   ],
   "source": [
    "pip install textblob"
   ]
  },
  {
   "cell_type": "code",
   "execution_count": 31,
   "metadata": {},
   "outputs": [],
   "source": [
    "import string\n",
    "from nltk.corpus import stopwords\n",
    "from textblob import Word\n",
    "import nltk\n",
    "from nltk.stem import WordNetLemmatizer\n",
    "wl = WordNetLemmatizer()\n",
    "stop = stopwords.words('english')\n",
    "\n",
    "def text_cleaning(a):\n",
    "    txt = [char for char in a if char not in string.punctuation]\n",
    "    txt = ''.join(txt)\n",
    "    txt = [word for word in txt.split()] # word tokenization\n",
    "    txt = [w for w in txt if w.lower() not in stopwords.words('english')]\n",
    "    #txt = [w for w in wl.lemmatize(txt)] #why is this function not working properly\n",
    "    \n",
    "    return txt\n",
    "\n",
    "work_df['patterns'] = work_df['patterns'].apply(text_cleaning)"
   ]
  },
  {
   "cell_type": "code",
   "execution_count": 32,
   "metadata": {},
   "outputs": [
    {
     "data": {
      "text/plain": [
       "0             [Hi, anyone, Hey, Hola, Hello, Good, day]\n",
       "1     [Bye, See, later, Goodbye, Nice, chatting, bye...\n",
       "2     [Thanks, Thank, Thats, helpful, Awesome, thank...\n",
       "3                                                    []\n",
       "4                 [could, help, help, provide, helpful]\n",
       "5     [order, id, 431B67, track, order, 562B78, orde...\n",
       "6      [order, id, 345A23, comprises, List, components]\n",
       "7     [order, order, locate, order, Delivery, date, ...\n",
       "8     [find, order, location, 32712, Location, order...\n",
       "9     [want, appoitment, Manoj, kumar, set, appointm...\n",
       "10             [appointment, fixed, appointment, today]\n",
       "11         [Sujata, Nandi, leave, Manish, Kumar, leave]\n",
       "12    [Cost, Lowering, changes, made, changes, could...\n",
       "13    [forgot, Login, password, someone, forgets, Lo...\n",
       "14                           [abxgmailcom, abckiitacin]\n",
       "15                         [Find, manufacturer, nearby]\n",
       "16          [want, know, various, departments, company]\n",
       "17               [challenging, events, threats, market]\n",
       "18                  [Target, customers, key, customers]\n",
       "19                      [information, shared, supplier]\n",
       "20                         [highest, grossing, product]\n",
       "21    [want, meet, head, HRITProjects, department, w...\n",
       "22    [complaint, raised, Insufficient, Team, Skills...\n",
       "23    [Lack, product, clarity, specifications, produ...\n",
       "24    [user, needs, updated, software, version, user...\n",
       "25    [problem, related, Job, design, analysis, quer...\n",
       "26       [Impact, sale, factors, impacting, sale, year]\n",
       "27           [improved, sale, last, year, profit, year]\n",
       "28    [customer, response, customer, happy, customer...\n",
       "29           [maintainence, related, queries, recorded]\n",
       "30                           [gadgets, stock, products]\n",
       "31        [Commission, rate, Commission, rate, product]\n",
       "32                     [Marry, love, date, chat, bored]\n",
       "33                                                   []\n",
       "34                         [turnover, company, present]\n",
       "35                              [order, 23A12, delayed]\n",
       "36                              [order, 23A12, delayed]\n",
       "37                                         [name, call]\n",
       "38                                                   []\n",
       "39    [configure, laptop, software, configuration, l...\n",
       "40                                     [weather, today]\n",
       "41    [Michel, Sharma, leave, Siddhart, Roy, present...\n",
       "42    [Opening, hours, cafeteria, cafeteria, open, o...\n",
       "43    [VP, cabin, Head, cabin, AI, department, Proje...\n",
       "44    [improve, team, members, domain, knowledge, im...\n",
       "Name: patterns, dtype: object"
      ]
     },
     "execution_count": 32,
     "metadata": {},
     "output_type": "execute_result"
    }
   ],
   "source": [
    "work_df['patterns']"
   ]
  },
  {
   "cell_type": "markdown",
   "metadata": {},
   "source": [
    "# 3) Neural Network Building using Word2Vec"
   ]
  },
  {
   "cell_type": "code",
   "execution_count": 67,
   "metadata": {},
   "outputs": [
    {
     "name": "stdout",
     "output_type": "stream",
     "text": [
      "[['Hi', 'anyone', 'Hey', 'Hola', 'Hello', 'Good', 'day']]\n",
      "[['Hi', 'anyone', 'Hey', 'Hola', 'Hello', 'Good', 'day'], ['Bye', 'See', 'later', 'Goodbye', 'Nice', 'chatting', 'bye', 'Till', 'next', 'time']]\n",
      "[['Hi', 'anyone', 'Hey', 'Hola', 'Hello', 'Good', 'day'], ['Bye', 'See', 'later', 'Goodbye', 'Nice', 'chatting', 'bye', 'Till', 'next', 'time'], ['Thanks', 'Thank', 'Thats', 'helpful', 'Awesome', 'thanks', 'Thanks', 'helping']]\n",
      "[['Hi', 'anyone', 'Hey', 'Hola', 'Hello', 'Good', 'day'], ['Bye', 'See', 'later', 'Goodbye', 'Nice', 'chatting', 'bye', 'Till', 'next', 'time'], ['Thanks', 'Thank', 'Thats', 'helpful', 'Awesome', 'thanks', 'Thanks', 'helping'], []]\n",
      "[['Hi', 'anyone', 'Hey', 'Hola', 'Hello', 'Good', 'day'], ['Bye', 'See', 'later', 'Goodbye', 'Nice', 'chatting', 'bye', 'Till', 'next', 'time'], ['Thanks', 'Thank', 'Thats', 'helpful', 'Awesome', 'thanks', 'Thanks', 'helping'], [], ['could', 'help', 'help', 'provide', 'helpful']]\n",
      "[['Hi', 'anyone', 'Hey', 'Hola', 'Hello', 'Good', 'day'], ['Bye', 'See', 'later', 'Goodbye', 'Nice', 'chatting', 'bye', 'Till', 'next', 'time'], ['Thanks', 'Thank', 'Thats', 'helpful', 'Awesome', 'thanks', 'Thanks', 'helping'], [], ['could', 'help', 'help', 'provide', 'helpful'], ['order', 'id', '431B67', 'track', 'order', '562B78', 'order', 'id', '561A24']]\n",
      "[['Hi', 'anyone', 'Hey', 'Hola', 'Hello', 'Good', 'day'], ['Bye', 'See', 'later', 'Goodbye', 'Nice', 'chatting', 'bye', 'Till', 'next', 'time'], ['Thanks', 'Thank', 'Thats', 'helpful', 'Awesome', 'thanks', 'Thanks', 'helping'], [], ['could', 'help', 'help', 'provide', 'helpful'], ['order', 'id', '431B67', 'track', 'order', '562B78', 'order', 'id', '561A24'], ['order', 'id', '345A23', 'comprises', 'List', 'components']]\n",
      "[['Hi', 'anyone', 'Hey', 'Hola', 'Hello', 'Good', 'day'], ['Bye', 'See', 'later', 'Goodbye', 'Nice', 'chatting', 'bye', 'Till', 'next', 'time'], ['Thanks', 'Thank', 'Thats', 'helpful', 'Awesome', 'thanks', 'Thanks', 'helping'], [], ['could', 'help', 'help', 'provide', 'helpful'], ['order', 'id', '431B67', 'track', 'order', '562B78', 'order', 'id', '561A24'], ['order', 'id', '345A23', 'comprises', 'List', 'components'], ['order', 'order', 'locate', 'order', 'Delivery', 'date', 'order']]\n",
      "[['Hi', 'anyone', 'Hey', 'Hola', 'Hello', 'Good', 'day'], ['Bye', 'See', 'later', 'Goodbye', 'Nice', 'chatting', 'bye', 'Till', 'next', 'time'], ['Thanks', 'Thank', 'Thats', 'helpful', 'Awesome', 'thanks', 'Thanks', 'helping'], [], ['could', 'help', 'help', 'provide', 'helpful'], ['order', 'id', '431B67', 'track', 'order', '562B78', 'order', 'id', '561A24'], ['order', 'id', '345A23', 'comprises', 'List', 'components'], ['order', 'order', 'locate', 'order', 'Delivery', 'date', 'order'], ['find', 'order', 'location', '32712', 'Location', 'order', '23A31']]\n",
      "[['Hi', 'anyone', 'Hey', 'Hola', 'Hello', 'Good', 'day'], ['Bye', 'See', 'later', 'Goodbye', 'Nice', 'chatting', 'bye', 'Till', 'next', 'time'], ['Thanks', 'Thank', 'Thats', 'helpful', 'Awesome', 'thanks', 'Thanks', 'helping'], [], ['could', 'help', 'help', 'provide', 'helpful'], ['order', 'id', '431B67', 'track', 'order', '562B78', 'order', 'id', '561A24'], ['order', 'id', '345A23', 'comprises', 'List', 'components'], ['order', 'order', 'locate', 'order', 'Delivery', 'date', 'order'], ['find', 'order', 'location', '32712', 'Location', 'order', '23A31'], ['want', 'appoitment', 'Manoj', 'kumar', 'set', 'appointment', 'Sujata', 'Nandi']]\n",
      "[['Hi', 'anyone', 'Hey', 'Hola', 'Hello', 'Good', 'day'], ['Bye', 'See', 'later', 'Goodbye', 'Nice', 'chatting', 'bye', 'Till', 'next', 'time'], ['Thanks', 'Thank', 'Thats', 'helpful', 'Awesome', 'thanks', 'Thanks', 'helping'], [], ['could', 'help', 'help', 'provide', 'helpful'], ['order', 'id', '431B67', 'track', 'order', '562B78', 'order', 'id', '561A24'], ['order', 'id', '345A23', 'comprises', 'List', 'components'], ['order', 'order', 'locate', 'order', 'Delivery', 'date', 'order'], ['find', 'order', 'location', '32712', 'Location', 'order', '23A31'], ['want', 'appoitment', 'Manoj', 'kumar', 'set', 'appointment', 'Sujata', 'Nandi'], ['appointment', 'fixed', 'appointment', 'today']]\n",
      "[['Hi', 'anyone', 'Hey', 'Hola', 'Hello', 'Good', 'day'], ['Bye', 'See', 'later', 'Goodbye', 'Nice', 'chatting', 'bye', 'Till', 'next', 'time'], ['Thanks', 'Thank', 'Thats', 'helpful', 'Awesome', 'thanks', 'Thanks', 'helping'], [], ['could', 'help', 'help', 'provide', 'helpful'], ['order', 'id', '431B67', 'track', 'order', '562B78', 'order', 'id', '561A24'], ['order', 'id', '345A23', 'comprises', 'List', 'components'], ['order', 'order', 'locate', 'order', 'Delivery', 'date', 'order'], ['find', 'order', 'location', '32712', 'Location', 'order', '23A31'], ['want', 'appoitment', 'Manoj', 'kumar', 'set', 'appointment', 'Sujata', 'Nandi'], ['appointment', 'fixed', 'appointment', 'today'], ['Sujata', 'Nandi', 'leave', 'Manish', 'Kumar', 'leave']]\n",
      "[['Hi', 'anyone', 'Hey', 'Hola', 'Hello', 'Good', 'day'], ['Bye', 'See', 'later', 'Goodbye', 'Nice', 'chatting', 'bye', 'Till', 'next', 'time'], ['Thanks', 'Thank', 'Thats', 'helpful', 'Awesome', 'thanks', 'Thanks', 'helping'], [], ['could', 'help', 'help', 'provide', 'helpful'], ['order', 'id', '431B67', 'track', 'order', '562B78', 'order', 'id', '561A24'], ['order', 'id', '345A23', 'comprises', 'List', 'components'], ['order', 'order', 'locate', 'order', 'Delivery', 'date', 'order'], ['find', 'order', 'location', '32712', 'Location', 'order', '23A31'], ['want', 'appoitment', 'Manoj', 'kumar', 'set', 'appointment', 'Sujata', 'Nandi'], ['appointment', 'fixed', 'appointment', 'today'], ['Sujata', 'Nandi', 'leave', 'Manish', 'Kumar', 'leave'], ['Cost', 'Lowering', 'changes', 'made', 'changes', 'could', 'lower', 'cost']]\n",
      "[['Hi', 'anyone', 'Hey', 'Hola', 'Hello', 'Good', 'day'], ['Bye', 'See', 'later', 'Goodbye', 'Nice', 'chatting', 'bye', 'Till', 'next', 'time'], ['Thanks', 'Thank', 'Thats', 'helpful', 'Awesome', 'thanks', 'Thanks', 'helping'], [], ['could', 'help', 'help', 'provide', 'helpful'], ['order', 'id', '431B67', 'track', 'order', '562B78', 'order', 'id', '561A24'], ['order', 'id', '345A23', 'comprises', 'List', 'components'], ['order', 'order', 'locate', 'order', 'Delivery', 'date', 'order'], ['find', 'order', 'location', '32712', 'Location', 'order', '23A31'], ['want', 'appoitment', 'Manoj', 'kumar', 'set', 'appointment', 'Sujata', 'Nandi'], ['appointment', 'fixed', 'appointment', 'today'], ['Sujata', 'Nandi', 'leave', 'Manish', 'Kumar', 'leave'], ['Cost', 'Lowering', 'changes', 'made', 'changes', 'could', 'lower', 'cost'], ['forgot', 'Login', 'password', 'someone', 'forgets', 'Login', 'password', 'forgot', 'Laptop', 'password', 'Forgot', 'Wifi', 'password']]\n",
      "[['Hi', 'anyone', 'Hey', 'Hola', 'Hello', 'Good', 'day'], ['Bye', 'See', 'later', 'Goodbye', 'Nice', 'chatting', 'bye', 'Till', 'next', 'time'], ['Thanks', 'Thank', 'Thats', 'helpful', 'Awesome', 'thanks', 'Thanks', 'helping'], [], ['could', 'help', 'help', 'provide', 'helpful'], ['order', 'id', '431B67', 'track', 'order', '562B78', 'order', 'id', '561A24'], ['order', 'id', '345A23', 'comprises', 'List', 'components'], ['order', 'order', 'locate', 'order', 'Delivery', 'date', 'order'], ['find', 'order', 'location', '32712', 'Location', 'order', '23A31'], ['want', 'appoitment', 'Manoj', 'kumar', 'set', 'appointment', 'Sujata', 'Nandi'], ['appointment', 'fixed', 'appointment', 'today'], ['Sujata', 'Nandi', 'leave', 'Manish', 'Kumar', 'leave'], ['Cost', 'Lowering', 'changes', 'made', 'changes', 'could', 'lower', 'cost'], ['forgot', 'Login', 'password', 'someone', 'forgets', 'Login', 'password', 'forgot', 'Laptop', 'password', 'Forgot', 'Wifi', 'password'], ['abxgmailcom', 'abckiitacin']]\n",
      "[['Hi', 'anyone', 'Hey', 'Hola', 'Hello', 'Good', 'day'], ['Bye', 'See', 'later', 'Goodbye', 'Nice', 'chatting', 'bye', 'Till', 'next', 'time'], ['Thanks', 'Thank', 'Thats', 'helpful', 'Awesome', 'thanks', 'Thanks', 'helping'], [], ['could', 'help', 'help', 'provide', 'helpful'], ['order', 'id', '431B67', 'track', 'order', '562B78', 'order', 'id', '561A24'], ['order', 'id', '345A23', 'comprises', 'List', 'components'], ['order', 'order', 'locate', 'order', 'Delivery', 'date', 'order'], ['find', 'order', 'location', '32712', 'Location', 'order', '23A31'], ['want', 'appoitment', 'Manoj', 'kumar', 'set', 'appointment', 'Sujata', 'Nandi'], ['appointment', 'fixed', 'appointment', 'today'], ['Sujata', 'Nandi', 'leave', 'Manish', 'Kumar', 'leave'], ['Cost', 'Lowering', 'changes', 'made', 'changes', 'could', 'lower', 'cost'], ['forgot', 'Login', 'password', 'someone', 'forgets', 'Login', 'password', 'forgot', 'Laptop', 'password', 'Forgot', 'Wifi', 'password'], ['abxgmailcom', 'abckiitacin'], ['Find', 'manufacturer', 'nearby']]\n",
      "[['Hi', 'anyone', 'Hey', 'Hola', 'Hello', 'Good', 'day'], ['Bye', 'See', 'later', 'Goodbye', 'Nice', 'chatting', 'bye', 'Till', 'next', 'time'], ['Thanks', 'Thank', 'Thats', 'helpful', 'Awesome', 'thanks', 'Thanks', 'helping'], [], ['could', 'help', 'help', 'provide', 'helpful'], ['order', 'id', '431B67', 'track', 'order', '562B78', 'order', 'id', '561A24'], ['order', 'id', '345A23', 'comprises', 'List', 'components'], ['order', 'order', 'locate', 'order', 'Delivery', 'date', 'order'], ['find', 'order', 'location', '32712', 'Location', 'order', '23A31'], ['want', 'appoitment', 'Manoj', 'kumar', 'set', 'appointment', 'Sujata', 'Nandi'], ['appointment', 'fixed', 'appointment', 'today'], ['Sujata', 'Nandi', 'leave', 'Manish', 'Kumar', 'leave'], ['Cost', 'Lowering', 'changes', 'made', 'changes', 'could', 'lower', 'cost'], ['forgot', 'Login', 'password', 'someone', 'forgets', 'Login', 'password', 'forgot', 'Laptop', 'password', 'Forgot', 'Wifi', 'password'], ['abxgmailcom', 'abckiitacin'], ['Find', 'manufacturer', 'nearby'], ['want', 'know', 'various', 'departments', 'company']]\n",
      "[['Hi', 'anyone', 'Hey', 'Hola', 'Hello', 'Good', 'day'], ['Bye', 'See', 'later', 'Goodbye', 'Nice', 'chatting', 'bye', 'Till', 'next', 'time'], ['Thanks', 'Thank', 'Thats', 'helpful', 'Awesome', 'thanks', 'Thanks', 'helping'], [], ['could', 'help', 'help', 'provide', 'helpful'], ['order', 'id', '431B67', 'track', 'order', '562B78', 'order', 'id', '561A24'], ['order', 'id', '345A23', 'comprises', 'List', 'components'], ['order', 'order', 'locate', 'order', 'Delivery', 'date', 'order'], ['find', 'order', 'location', '32712', 'Location', 'order', '23A31'], ['want', 'appoitment', 'Manoj', 'kumar', 'set', 'appointment', 'Sujata', 'Nandi'], ['appointment', 'fixed', 'appointment', 'today'], ['Sujata', 'Nandi', 'leave', 'Manish', 'Kumar', 'leave'], ['Cost', 'Lowering', 'changes', 'made', 'changes', 'could', 'lower', 'cost'], ['forgot', 'Login', 'password', 'someone', 'forgets', 'Login', 'password', 'forgot', 'Laptop', 'password', 'Forgot', 'Wifi', 'password'], ['abxgmailcom', 'abckiitacin'], ['Find', 'manufacturer', 'nearby'], ['want', 'know', 'various', 'departments', 'company'], ['challenging', 'events', 'threats', 'market']]\n",
      "[['Hi', 'anyone', 'Hey', 'Hola', 'Hello', 'Good', 'day'], ['Bye', 'See', 'later', 'Goodbye', 'Nice', 'chatting', 'bye', 'Till', 'next', 'time'], ['Thanks', 'Thank', 'Thats', 'helpful', 'Awesome', 'thanks', 'Thanks', 'helping'], [], ['could', 'help', 'help', 'provide', 'helpful'], ['order', 'id', '431B67', 'track', 'order', '562B78', 'order', 'id', '561A24'], ['order', 'id', '345A23', 'comprises', 'List', 'components'], ['order', 'order', 'locate', 'order', 'Delivery', 'date', 'order'], ['find', 'order', 'location', '32712', 'Location', 'order', '23A31'], ['want', 'appoitment', 'Manoj', 'kumar', 'set', 'appointment', 'Sujata', 'Nandi'], ['appointment', 'fixed', 'appointment', 'today'], ['Sujata', 'Nandi', 'leave', 'Manish', 'Kumar', 'leave'], ['Cost', 'Lowering', 'changes', 'made', 'changes', 'could', 'lower', 'cost'], ['forgot', 'Login', 'password', 'someone', 'forgets', 'Login', 'password', 'forgot', 'Laptop', 'password', 'Forgot', 'Wifi', 'password'], ['abxgmailcom', 'abckiitacin'], ['Find', 'manufacturer', 'nearby'], ['want', 'know', 'various', 'departments', 'company'], ['challenging', 'events', 'threats', 'market'], ['Target', 'customers', 'key', 'customers']]\n",
      "[['Hi', 'anyone', 'Hey', 'Hola', 'Hello', 'Good', 'day'], ['Bye', 'See', 'later', 'Goodbye', 'Nice', 'chatting', 'bye', 'Till', 'next', 'time'], ['Thanks', 'Thank', 'Thats', 'helpful', 'Awesome', 'thanks', 'Thanks', 'helping'], [], ['could', 'help', 'help', 'provide', 'helpful'], ['order', 'id', '431B67', 'track', 'order', '562B78', 'order', 'id', '561A24'], ['order', 'id', '345A23', 'comprises', 'List', 'components'], ['order', 'order', 'locate', 'order', 'Delivery', 'date', 'order'], ['find', 'order', 'location', '32712', 'Location', 'order', '23A31'], ['want', 'appoitment', 'Manoj', 'kumar', 'set', 'appointment', 'Sujata', 'Nandi'], ['appointment', 'fixed', 'appointment', 'today'], ['Sujata', 'Nandi', 'leave', 'Manish', 'Kumar', 'leave'], ['Cost', 'Lowering', 'changes', 'made', 'changes', 'could', 'lower', 'cost'], ['forgot', 'Login', 'password', 'someone', 'forgets', 'Login', 'password', 'forgot', 'Laptop', 'password', 'Forgot', 'Wifi', 'password'], ['abxgmailcom', 'abckiitacin'], ['Find', 'manufacturer', 'nearby'], ['want', 'know', 'various', 'departments', 'company'], ['challenging', 'events', 'threats', 'market'], ['Target', 'customers', 'key', 'customers'], ['information', 'shared', 'supplier']]\n",
      "[['Hi', 'anyone', 'Hey', 'Hola', 'Hello', 'Good', 'day'], ['Bye', 'See', 'later', 'Goodbye', 'Nice', 'chatting', 'bye', 'Till', 'next', 'time'], ['Thanks', 'Thank', 'Thats', 'helpful', 'Awesome', 'thanks', 'Thanks', 'helping'], [], ['could', 'help', 'help', 'provide', 'helpful'], ['order', 'id', '431B67', 'track', 'order', '562B78', 'order', 'id', '561A24'], ['order', 'id', '345A23', 'comprises', 'List', 'components'], ['order', 'order', 'locate', 'order', 'Delivery', 'date', 'order'], ['find', 'order', 'location', '32712', 'Location', 'order', '23A31'], ['want', 'appoitment', 'Manoj', 'kumar', 'set', 'appointment', 'Sujata', 'Nandi'], ['appointment', 'fixed', 'appointment', 'today'], ['Sujata', 'Nandi', 'leave', 'Manish', 'Kumar', 'leave'], ['Cost', 'Lowering', 'changes', 'made', 'changes', 'could', 'lower', 'cost'], ['forgot', 'Login', 'password', 'someone', 'forgets', 'Login', 'password', 'forgot', 'Laptop', 'password', 'Forgot', 'Wifi', 'password'], ['abxgmailcom', 'abckiitacin'], ['Find', 'manufacturer', 'nearby'], ['want', 'know', 'various', 'departments', 'company'], ['challenging', 'events', 'threats', 'market'], ['Target', 'customers', 'key', 'customers'], ['information', 'shared', 'supplier'], ['highest', 'grossing', 'product']]\n",
      "[['Hi', 'anyone', 'Hey', 'Hola', 'Hello', 'Good', 'day'], ['Bye', 'See', 'later', 'Goodbye', 'Nice', 'chatting', 'bye', 'Till', 'next', 'time'], ['Thanks', 'Thank', 'Thats', 'helpful', 'Awesome', 'thanks', 'Thanks', 'helping'], [], ['could', 'help', 'help', 'provide', 'helpful'], ['order', 'id', '431B67', 'track', 'order', '562B78', 'order', 'id', '561A24'], ['order', 'id', '345A23', 'comprises', 'List', 'components'], ['order', 'order', 'locate', 'order', 'Delivery', 'date', 'order'], ['find', 'order', 'location', '32712', 'Location', 'order', '23A31'], ['want', 'appoitment', 'Manoj', 'kumar', 'set', 'appointment', 'Sujata', 'Nandi'], ['appointment', 'fixed', 'appointment', 'today'], ['Sujata', 'Nandi', 'leave', 'Manish', 'Kumar', 'leave'], ['Cost', 'Lowering', 'changes', 'made', 'changes', 'could', 'lower', 'cost'], ['forgot', 'Login', 'password', 'someone', 'forgets', 'Login', 'password', 'forgot', 'Laptop', 'password', 'Forgot', 'Wifi', 'password'], ['abxgmailcom', 'abckiitacin'], ['Find', 'manufacturer', 'nearby'], ['want', 'know', 'various', 'departments', 'company'], ['challenging', 'events', 'threats', 'market'], ['Target', 'customers', 'key', 'customers'], ['information', 'shared', 'supplier'], ['highest', 'grossing', 'product'], ['want', 'meet', 'head', 'HRITProjects', 'department', 'want', 'meet', 'head', 'Rakesh', 'sharma']]\n",
      "[['Hi', 'anyone', 'Hey', 'Hola', 'Hello', 'Good', 'day'], ['Bye', 'See', 'later', 'Goodbye', 'Nice', 'chatting', 'bye', 'Till', 'next', 'time'], ['Thanks', 'Thank', 'Thats', 'helpful', 'Awesome', 'thanks', 'Thanks', 'helping'], [], ['could', 'help', 'help', 'provide', 'helpful'], ['order', 'id', '431B67', 'track', 'order', '562B78', 'order', 'id', '561A24'], ['order', 'id', '345A23', 'comprises', 'List', 'components'], ['order', 'order', 'locate', 'order', 'Delivery', 'date', 'order'], ['find', 'order', 'location', '32712', 'Location', 'order', '23A31'], ['want', 'appoitment', 'Manoj', 'kumar', 'set', 'appointment', 'Sujata', 'Nandi'], ['appointment', 'fixed', 'appointment', 'today'], ['Sujata', 'Nandi', 'leave', 'Manish', 'Kumar', 'leave'], ['Cost', 'Lowering', 'changes', 'made', 'changes', 'could', 'lower', 'cost'], ['forgot', 'Login', 'password', 'someone', 'forgets', 'Login', 'password', 'forgot', 'Laptop', 'password', 'Forgot', 'Wifi', 'password'], ['abxgmailcom', 'abckiitacin'], ['Find', 'manufacturer', 'nearby'], ['want', 'know', 'various', 'departments', 'company'], ['challenging', 'events', 'threats', 'market'], ['Target', 'customers', 'key', 'customers'], ['information', 'shared', 'supplier'], ['highest', 'grossing', 'product'], ['want', 'meet', 'head', 'HRITProjects', 'department', 'want', 'meet', 'head', 'Rakesh', 'sharma'], ['complaint', 'raised', 'Insufficient', 'Team', 'Skills', 'Miscommunication', 'Conflicts', 'needs', 'resolved', 'Risk', 'Management', 'issue', 'occured', 'skilled', 'employees', 'needed', 'urgently']]\n",
      "[['Hi', 'anyone', 'Hey', 'Hola', 'Hello', 'Good', 'day'], ['Bye', 'See', 'later', 'Goodbye', 'Nice', 'chatting', 'bye', 'Till', 'next', 'time'], ['Thanks', 'Thank', 'Thats', 'helpful', 'Awesome', 'thanks', 'Thanks', 'helping'], [], ['could', 'help', 'help', 'provide', 'helpful'], ['order', 'id', '431B67', 'track', 'order', '562B78', 'order', 'id', '561A24'], ['order', 'id', '345A23', 'comprises', 'List', 'components'], ['order', 'order', 'locate', 'order', 'Delivery', 'date', 'order'], ['find', 'order', 'location', '32712', 'Location', 'order', '23A31'], ['want', 'appoitment', 'Manoj', 'kumar', 'set', 'appointment', 'Sujata', 'Nandi'], ['appointment', 'fixed', 'appointment', 'today'], ['Sujata', 'Nandi', 'leave', 'Manish', 'Kumar', 'leave'], ['Cost', 'Lowering', 'changes', 'made', 'changes', 'could', 'lower', 'cost'], ['forgot', 'Login', 'password', 'someone', 'forgets', 'Login', 'password', 'forgot', 'Laptop', 'password', 'Forgot', 'Wifi', 'password'], ['abxgmailcom', 'abckiitacin'], ['Find', 'manufacturer', 'nearby'], ['want', 'know', 'various', 'departments', 'company'], ['challenging', 'events', 'threats', 'market'], ['Target', 'customers', 'key', 'customers'], ['information', 'shared', 'supplier'], ['highest', 'grossing', 'product'], ['want', 'meet', 'head', 'HRITProjects', 'department', 'want', 'meet', 'head', 'Rakesh', 'sharma'], ['complaint', 'raised', 'Insufficient', 'Team', 'Skills', 'Miscommunication', 'Conflicts', 'needs', 'resolved', 'Risk', 'Management', 'issue', 'occured', 'skilled', 'employees', 'needed', 'urgently'], ['Lack', 'product', 'clarity', 'specifications', 'product', 'clear', 'customer']]\n",
      "[['Hi', 'anyone', 'Hey', 'Hola', 'Hello', 'Good', 'day'], ['Bye', 'See', 'later', 'Goodbye', 'Nice', 'chatting', 'bye', 'Till', 'next', 'time'], ['Thanks', 'Thank', 'Thats', 'helpful', 'Awesome', 'thanks', 'Thanks', 'helping'], [], ['could', 'help', 'help', 'provide', 'helpful'], ['order', 'id', '431B67', 'track', 'order', '562B78', 'order', 'id', '561A24'], ['order', 'id', '345A23', 'comprises', 'List', 'components'], ['order', 'order', 'locate', 'order', 'Delivery', 'date', 'order'], ['find', 'order', 'location', '32712', 'Location', 'order', '23A31'], ['want', 'appoitment', 'Manoj', 'kumar', 'set', 'appointment', 'Sujata', 'Nandi'], ['appointment', 'fixed', 'appointment', 'today'], ['Sujata', 'Nandi', 'leave', 'Manish', 'Kumar', 'leave'], ['Cost', 'Lowering', 'changes', 'made', 'changes', 'could', 'lower', 'cost'], ['forgot', 'Login', 'password', 'someone', 'forgets', 'Login', 'password', 'forgot', 'Laptop', 'password', 'Forgot', 'Wifi', 'password'], ['abxgmailcom', 'abckiitacin'], ['Find', 'manufacturer', 'nearby'], ['want', 'know', 'various', 'departments', 'company'], ['challenging', 'events', 'threats', 'market'], ['Target', 'customers', 'key', 'customers'], ['information', 'shared', 'supplier'], ['highest', 'grossing', 'product'], ['want', 'meet', 'head', 'HRITProjects', 'department', 'want', 'meet', 'head', 'Rakesh', 'sharma'], ['complaint', 'raised', 'Insufficient', 'Team', 'Skills', 'Miscommunication', 'Conflicts', 'needs', 'resolved', 'Risk', 'Management', 'issue', 'occured', 'skilled', 'employees', 'needed', 'urgently'], ['Lack', 'product', 'clarity', 'specifications', 'product', 'clear', 'customer'], ['user', 'needs', 'updated', 'software', 'version', 'user', 'demands', 'software', 'updation']]\n",
      "[['Hi', 'anyone', 'Hey', 'Hola', 'Hello', 'Good', 'day'], ['Bye', 'See', 'later', 'Goodbye', 'Nice', 'chatting', 'bye', 'Till', 'next', 'time'], ['Thanks', 'Thank', 'Thats', 'helpful', 'Awesome', 'thanks', 'Thanks', 'helping'], [], ['could', 'help', 'help', 'provide', 'helpful'], ['order', 'id', '431B67', 'track', 'order', '562B78', 'order', 'id', '561A24'], ['order', 'id', '345A23', 'comprises', 'List', 'components'], ['order', 'order', 'locate', 'order', 'Delivery', 'date', 'order'], ['find', 'order', 'location', '32712', 'Location', 'order', '23A31'], ['want', 'appoitment', 'Manoj', 'kumar', 'set', 'appointment', 'Sujata', 'Nandi'], ['appointment', 'fixed', 'appointment', 'today'], ['Sujata', 'Nandi', 'leave', 'Manish', 'Kumar', 'leave'], ['Cost', 'Lowering', 'changes', 'made', 'changes', 'could', 'lower', 'cost'], ['forgot', 'Login', 'password', 'someone', 'forgets', 'Login', 'password', 'forgot', 'Laptop', 'password', 'Forgot', 'Wifi', 'password'], ['abxgmailcom', 'abckiitacin'], ['Find', 'manufacturer', 'nearby'], ['want', 'know', 'various', 'departments', 'company'], ['challenging', 'events', 'threats', 'market'], ['Target', 'customers', 'key', 'customers'], ['information', 'shared', 'supplier'], ['highest', 'grossing', 'product'], ['want', 'meet', 'head', 'HRITProjects', 'department', 'want', 'meet', 'head', 'Rakesh', 'sharma'], ['complaint', 'raised', 'Insufficient', 'Team', 'Skills', 'Miscommunication', 'Conflicts', 'needs', 'resolved', 'Risk', 'Management', 'issue', 'occured', 'skilled', 'employees', 'needed', 'urgently'], ['Lack', 'product', 'clarity', 'specifications', 'product', 'clear', 'customer'], ['user', 'needs', 'updated', 'software', 'version', 'user', 'demands', 'software', 'updation'], ['problem', 'related', 'Job', 'design', 'analysis', 'query', 'based', 'Workforce', 'planning', 'Training', 'development', 'issues', 'handled', 'Compensation', 'benefits', 'working', 'employee', 'Legal', 'issues', 'department', 'like', 'accidents', 'company']]\n",
      "[['Hi', 'anyone', 'Hey', 'Hola', 'Hello', 'Good', 'day'], ['Bye', 'See', 'later', 'Goodbye', 'Nice', 'chatting', 'bye', 'Till', 'next', 'time'], ['Thanks', 'Thank', 'Thats', 'helpful', 'Awesome', 'thanks', 'Thanks', 'helping'], [], ['could', 'help', 'help', 'provide', 'helpful'], ['order', 'id', '431B67', 'track', 'order', '562B78', 'order', 'id', '561A24'], ['order', 'id', '345A23', 'comprises', 'List', 'components'], ['order', 'order', 'locate', 'order', 'Delivery', 'date', 'order'], ['find', 'order', 'location', '32712', 'Location', 'order', '23A31'], ['want', 'appoitment', 'Manoj', 'kumar', 'set', 'appointment', 'Sujata', 'Nandi'], ['appointment', 'fixed', 'appointment', 'today'], ['Sujata', 'Nandi', 'leave', 'Manish', 'Kumar', 'leave'], ['Cost', 'Lowering', 'changes', 'made', 'changes', 'could', 'lower', 'cost'], ['forgot', 'Login', 'password', 'someone', 'forgets', 'Login', 'password', 'forgot', 'Laptop', 'password', 'Forgot', 'Wifi', 'password'], ['abxgmailcom', 'abckiitacin'], ['Find', 'manufacturer', 'nearby'], ['want', 'know', 'various', 'departments', 'company'], ['challenging', 'events', 'threats', 'market'], ['Target', 'customers', 'key', 'customers'], ['information', 'shared', 'supplier'], ['highest', 'grossing', 'product'], ['want', 'meet', 'head', 'HRITProjects', 'department', 'want', 'meet', 'head', 'Rakesh', 'sharma'], ['complaint', 'raised', 'Insufficient', 'Team', 'Skills', 'Miscommunication', 'Conflicts', 'needs', 'resolved', 'Risk', 'Management', 'issue', 'occured', 'skilled', 'employees', 'needed', 'urgently'], ['Lack', 'product', 'clarity', 'specifications', 'product', 'clear', 'customer'], ['user', 'needs', 'updated', 'software', 'version', 'user', 'demands', 'software', 'updation'], ['problem', 'related', 'Job', 'design', 'analysis', 'query', 'based', 'Workforce', 'planning', 'Training', 'development', 'issues', 'handled', 'Compensation', 'benefits', 'working', 'employee', 'Legal', 'issues', 'department', 'like', 'accidents', 'company'], ['Impact', 'sale', 'factors', 'impacting', 'sale', 'year']]\n",
      "[['Hi', 'anyone', 'Hey', 'Hola', 'Hello', 'Good', 'day'], ['Bye', 'See', 'later', 'Goodbye', 'Nice', 'chatting', 'bye', 'Till', 'next', 'time'], ['Thanks', 'Thank', 'Thats', 'helpful', 'Awesome', 'thanks', 'Thanks', 'helping'], [], ['could', 'help', 'help', 'provide', 'helpful'], ['order', 'id', '431B67', 'track', 'order', '562B78', 'order', 'id', '561A24'], ['order', 'id', '345A23', 'comprises', 'List', 'components'], ['order', 'order', 'locate', 'order', 'Delivery', 'date', 'order'], ['find', 'order', 'location', '32712', 'Location', 'order', '23A31'], ['want', 'appoitment', 'Manoj', 'kumar', 'set', 'appointment', 'Sujata', 'Nandi'], ['appointment', 'fixed', 'appointment', 'today'], ['Sujata', 'Nandi', 'leave', 'Manish', 'Kumar', 'leave'], ['Cost', 'Lowering', 'changes', 'made', 'changes', 'could', 'lower', 'cost'], ['forgot', 'Login', 'password', 'someone', 'forgets', 'Login', 'password', 'forgot', 'Laptop', 'password', 'Forgot', 'Wifi', 'password'], ['abxgmailcom', 'abckiitacin'], ['Find', 'manufacturer', 'nearby'], ['want', 'know', 'various', 'departments', 'company'], ['challenging', 'events', 'threats', 'market'], ['Target', 'customers', 'key', 'customers'], ['information', 'shared', 'supplier'], ['highest', 'grossing', 'product'], ['want', 'meet', 'head', 'HRITProjects', 'department', 'want', 'meet', 'head', 'Rakesh', 'sharma'], ['complaint', 'raised', 'Insufficient', 'Team', 'Skills', 'Miscommunication', 'Conflicts', 'needs', 'resolved', 'Risk', 'Management', 'issue', 'occured', 'skilled', 'employees', 'needed', 'urgently'], ['Lack', 'product', 'clarity', 'specifications', 'product', 'clear', 'customer'], ['user', 'needs', 'updated', 'software', 'version', 'user', 'demands', 'software', 'updation'], ['problem', 'related', 'Job', 'design', 'analysis', 'query', 'based', 'Workforce', 'planning', 'Training', 'development', 'issues', 'handled', 'Compensation', 'benefits', 'working', 'employee', 'Legal', 'issues', 'department', 'like', 'accidents', 'company'], ['Impact', 'sale', 'factors', 'impacting', 'sale', 'year'], ['improved', 'sale', 'last', 'year', 'profit', 'year']]\n",
      "[['Hi', 'anyone', 'Hey', 'Hola', 'Hello', 'Good', 'day'], ['Bye', 'See', 'later', 'Goodbye', 'Nice', 'chatting', 'bye', 'Till', 'next', 'time'], ['Thanks', 'Thank', 'Thats', 'helpful', 'Awesome', 'thanks', 'Thanks', 'helping'], [], ['could', 'help', 'help', 'provide', 'helpful'], ['order', 'id', '431B67', 'track', 'order', '562B78', 'order', 'id', '561A24'], ['order', 'id', '345A23', 'comprises', 'List', 'components'], ['order', 'order', 'locate', 'order', 'Delivery', 'date', 'order'], ['find', 'order', 'location', '32712', 'Location', 'order', '23A31'], ['want', 'appoitment', 'Manoj', 'kumar', 'set', 'appointment', 'Sujata', 'Nandi'], ['appointment', 'fixed', 'appointment', 'today'], ['Sujata', 'Nandi', 'leave', 'Manish', 'Kumar', 'leave'], ['Cost', 'Lowering', 'changes', 'made', 'changes', 'could', 'lower', 'cost'], ['forgot', 'Login', 'password', 'someone', 'forgets', 'Login', 'password', 'forgot', 'Laptop', 'password', 'Forgot', 'Wifi', 'password'], ['abxgmailcom', 'abckiitacin'], ['Find', 'manufacturer', 'nearby'], ['want', 'know', 'various', 'departments', 'company'], ['challenging', 'events', 'threats', 'market'], ['Target', 'customers', 'key', 'customers'], ['information', 'shared', 'supplier'], ['highest', 'grossing', 'product'], ['want', 'meet', 'head', 'HRITProjects', 'department', 'want', 'meet', 'head', 'Rakesh', 'sharma'], ['complaint', 'raised', 'Insufficient', 'Team', 'Skills', 'Miscommunication', 'Conflicts', 'needs', 'resolved', 'Risk', 'Management', 'issue', 'occured', 'skilled', 'employees', 'needed', 'urgently'], ['Lack', 'product', 'clarity', 'specifications', 'product', 'clear', 'customer'], ['user', 'needs', 'updated', 'software', 'version', 'user', 'demands', 'software', 'updation'], ['problem', 'related', 'Job', 'design', 'analysis', 'query', 'based', 'Workforce', 'planning', 'Training', 'development', 'issues', 'handled', 'Compensation', 'benefits', 'working', 'employee', 'Legal', 'issues', 'department', 'like', 'accidents', 'company'], ['Impact', 'sale', 'factors', 'impacting', 'sale', 'year'], ['improved', 'sale', 'last', 'year', 'profit', 'year'], ['customer', 'response', 'customer', 'happy', 'customer', 'feedback']]\n",
      "[['Hi', 'anyone', 'Hey', 'Hola', 'Hello', 'Good', 'day'], ['Bye', 'See', 'later', 'Goodbye', 'Nice', 'chatting', 'bye', 'Till', 'next', 'time'], ['Thanks', 'Thank', 'Thats', 'helpful', 'Awesome', 'thanks', 'Thanks', 'helping'], [], ['could', 'help', 'help', 'provide', 'helpful'], ['order', 'id', '431B67', 'track', 'order', '562B78', 'order', 'id', '561A24'], ['order', 'id', '345A23', 'comprises', 'List', 'components'], ['order', 'order', 'locate', 'order', 'Delivery', 'date', 'order'], ['find', 'order', 'location', '32712', 'Location', 'order', '23A31'], ['want', 'appoitment', 'Manoj', 'kumar', 'set', 'appointment', 'Sujata', 'Nandi'], ['appointment', 'fixed', 'appointment', 'today'], ['Sujata', 'Nandi', 'leave', 'Manish', 'Kumar', 'leave'], ['Cost', 'Lowering', 'changes', 'made', 'changes', 'could', 'lower', 'cost'], ['forgot', 'Login', 'password', 'someone', 'forgets', 'Login', 'password', 'forgot', 'Laptop', 'password', 'Forgot', 'Wifi', 'password'], ['abxgmailcom', 'abckiitacin'], ['Find', 'manufacturer', 'nearby'], ['want', 'know', 'various', 'departments', 'company'], ['challenging', 'events', 'threats', 'market'], ['Target', 'customers', 'key', 'customers'], ['information', 'shared', 'supplier'], ['highest', 'grossing', 'product'], ['want', 'meet', 'head', 'HRITProjects', 'department', 'want', 'meet', 'head', 'Rakesh', 'sharma'], ['complaint', 'raised', 'Insufficient', 'Team', 'Skills', 'Miscommunication', 'Conflicts', 'needs', 'resolved', 'Risk', 'Management', 'issue', 'occured', 'skilled', 'employees', 'needed', 'urgently'], ['Lack', 'product', 'clarity', 'specifications', 'product', 'clear', 'customer'], ['user', 'needs', 'updated', 'software', 'version', 'user', 'demands', 'software', 'updation'], ['problem', 'related', 'Job', 'design', 'analysis', 'query', 'based', 'Workforce', 'planning', 'Training', 'development', 'issues', 'handled', 'Compensation', 'benefits', 'working', 'employee', 'Legal', 'issues', 'department', 'like', 'accidents', 'company'], ['Impact', 'sale', 'factors', 'impacting', 'sale', 'year'], ['improved', 'sale', 'last', 'year', 'profit', 'year'], ['customer', 'response', 'customer', 'happy', 'customer', 'feedback'], ['maintainence', 'related', 'queries', 'recorded']]\n",
      "[['Hi', 'anyone', 'Hey', 'Hola', 'Hello', 'Good', 'day'], ['Bye', 'See', 'later', 'Goodbye', 'Nice', 'chatting', 'bye', 'Till', 'next', 'time'], ['Thanks', 'Thank', 'Thats', 'helpful', 'Awesome', 'thanks', 'Thanks', 'helping'], [], ['could', 'help', 'help', 'provide', 'helpful'], ['order', 'id', '431B67', 'track', 'order', '562B78', 'order', 'id', '561A24'], ['order', 'id', '345A23', 'comprises', 'List', 'components'], ['order', 'order', 'locate', 'order', 'Delivery', 'date', 'order'], ['find', 'order', 'location', '32712', 'Location', 'order', '23A31'], ['want', 'appoitment', 'Manoj', 'kumar', 'set', 'appointment', 'Sujata', 'Nandi'], ['appointment', 'fixed', 'appointment', 'today'], ['Sujata', 'Nandi', 'leave', 'Manish', 'Kumar', 'leave'], ['Cost', 'Lowering', 'changes', 'made', 'changes', 'could', 'lower', 'cost'], ['forgot', 'Login', 'password', 'someone', 'forgets', 'Login', 'password', 'forgot', 'Laptop', 'password', 'Forgot', 'Wifi', 'password'], ['abxgmailcom', 'abckiitacin'], ['Find', 'manufacturer', 'nearby'], ['want', 'know', 'various', 'departments', 'company'], ['challenging', 'events', 'threats', 'market'], ['Target', 'customers', 'key', 'customers'], ['information', 'shared', 'supplier'], ['highest', 'grossing', 'product'], ['want', 'meet', 'head', 'HRITProjects', 'department', 'want', 'meet', 'head', 'Rakesh', 'sharma'], ['complaint', 'raised', 'Insufficient', 'Team', 'Skills', 'Miscommunication', 'Conflicts', 'needs', 'resolved', 'Risk', 'Management', 'issue', 'occured', 'skilled', 'employees', 'needed', 'urgently'], ['Lack', 'product', 'clarity', 'specifications', 'product', 'clear', 'customer'], ['user', 'needs', 'updated', 'software', 'version', 'user', 'demands', 'software', 'updation'], ['problem', 'related', 'Job', 'design', 'analysis', 'query', 'based', 'Workforce', 'planning', 'Training', 'development', 'issues', 'handled', 'Compensation', 'benefits', 'working', 'employee', 'Legal', 'issues', 'department', 'like', 'accidents', 'company'], ['Impact', 'sale', 'factors', 'impacting', 'sale', 'year'], ['improved', 'sale', 'last', 'year', 'profit', 'year'], ['customer', 'response', 'customer', 'happy', 'customer', 'feedback'], ['maintainence', 'related', 'queries', 'recorded'], ['gadgets', 'stock', 'products']]\n",
      "[['Hi', 'anyone', 'Hey', 'Hola', 'Hello', 'Good', 'day'], ['Bye', 'See', 'later', 'Goodbye', 'Nice', 'chatting', 'bye', 'Till', 'next', 'time'], ['Thanks', 'Thank', 'Thats', 'helpful', 'Awesome', 'thanks', 'Thanks', 'helping'], [], ['could', 'help', 'help', 'provide', 'helpful'], ['order', 'id', '431B67', 'track', 'order', '562B78', 'order', 'id', '561A24'], ['order', 'id', '345A23', 'comprises', 'List', 'components'], ['order', 'order', 'locate', 'order', 'Delivery', 'date', 'order'], ['find', 'order', 'location', '32712', 'Location', 'order', '23A31'], ['want', 'appoitment', 'Manoj', 'kumar', 'set', 'appointment', 'Sujata', 'Nandi'], ['appointment', 'fixed', 'appointment', 'today'], ['Sujata', 'Nandi', 'leave', 'Manish', 'Kumar', 'leave'], ['Cost', 'Lowering', 'changes', 'made', 'changes', 'could', 'lower', 'cost'], ['forgot', 'Login', 'password', 'someone', 'forgets', 'Login', 'password', 'forgot', 'Laptop', 'password', 'Forgot', 'Wifi', 'password'], ['abxgmailcom', 'abckiitacin'], ['Find', 'manufacturer', 'nearby'], ['want', 'know', 'various', 'departments', 'company'], ['challenging', 'events', 'threats', 'market'], ['Target', 'customers', 'key', 'customers'], ['information', 'shared', 'supplier'], ['highest', 'grossing', 'product'], ['want', 'meet', 'head', 'HRITProjects', 'department', 'want', 'meet', 'head', 'Rakesh', 'sharma'], ['complaint', 'raised', 'Insufficient', 'Team', 'Skills', 'Miscommunication', 'Conflicts', 'needs', 'resolved', 'Risk', 'Management', 'issue', 'occured', 'skilled', 'employees', 'needed', 'urgently'], ['Lack', 'product', 'clarity', 'specifications', 'product', 'clear', 'customer'], ['user', 'needs', 'updated', 'software', 'version', 'user', 'demands', 'software', 'updation'], ['problem', 'related', 'Job', 'design', 'analysis', 'query', 'based', 'Workforce', 'planning', 'Training', 'development', 'issues', 'handled', 'Compensation', 'benefits', 'working', 'employee', 'Legal', 'issues', 'department', 'like', 'accidents', 'company'], ['Impact', 'sale', 'factors', 'impacting', 'sale', 'year'], ['improved', 'sale', 'last', 'year', 'profit', 'year'], ['customer', 'response', 'customer', 'happy', 'customer', 'feedback'], ['maintainence', 'related', 'queries', 'recorded'], ['gadgets', 'stock', 'products'], ['Commission', 'rate', 'Commission', 'rate', 'product']]\n",
      "[['Hi', 'anyone', 'Hey', 'Hola', 'Hello', 'Good', 'day'], ['Bye', 'See', 'later', 'Goodbye', 'Nice', 'chatting', 'bye', 'Till', 'next', 'time'], ['Thanks', 'Thank', 'Thats', 'helpful', 'Awesome', 'thanks', 'Thanks', 'helping'], [], ['could', 'help', 'help', 'provide', 'helpful'], ['order', 'id', '431B67', 'track', 'order', '562B78', 'order', 'id', '561A24'], ['order', 'id', '345A23', 'comprises', 'List', 'components'], ['order', 'order', 'locate', 'order', 'Delivery', 'date', 'order'], ['find', 'order', 'location', '32712', 'Location', 'order', '23A31'], ['want', 'appoitment', 'Manoj', 'kumar', 'set', 'appointment', 'Sujata', 'Nandi'], ['appointment', 'fixed', 'appointment', 'today'], ['Sujata', 'Nandi', 'leave', 'Manish', 'Kumar', 'leave'], ['Cost', 'Lowering', 'changes', 'made', 'changes', 'could', 'lower', 'cost'], ['forgot', 'Login', 'password', 'someone', 'forgets', 'Login', 'password', 'forgot', 'Laptop', 'password', 'Forgot', 'Wifi', 'password'], ['abxgmailcom', 'abckiitacin'], ['Find', 'manufacturer', 'nearby'], ['want', 'know', 'various', 'departments', 'company'], ['challenging', 'events', 'threats', 'market'], ['Target', 'customers', 'key', 'customers'], ['information', 'shared', 'supplier'], ['highest', 'grossing', 'product'], ['want', 'meet', 'head', 'HRITProjects', 'department', 'want', 'meet', 'head', 'Rakesh', 'sharma'], ['complaint', 'raised', 'Insufficient', 'Team', 'Skills', 'Miscommunication', 'Conflicts', 'needs', 'resolved', 'Risk', 'Management', 'issue', 'occured', 'skilled', 'employees', 'needed', 'urgently'], ['Lack', 'product', 'clarity', 'specifications', 'product', 'clear', 'customer'], ['user', 'needs', 'updated', 'software', 'version', 'user', 'demands', 'software', 'updation'], ['problem', 'related', 'Job', 'design', 'analysis', 'query', 'based', 'Workforce', 'planning', 'Training', 'development', 'issues', 'handled', 'Compensation', 'benefits', 'working', 'employee', 'Legal', 'issues', 'department', 'like', 'accidents', 'company'], ['Impact', 'sale', 'factors', 'impacting', 'sale', 'year'], ['improved', 'sale', 'last', 'year', 'profit', 'year'], ['customer', 'response', 'customer', 'happy', 'customer', 'feedback'], ['maintainence', 'related', 'queries', 'recorded'], ['gadgets', 'stock', 'products'], ['Commission', 'rate', 'Commission', 'rate', 'product'], ['Marry', 'love', 'date', 'chat', 'bored']]\n",
      "[['Hi', 'anyone', 'Hey', 'Hola', 'Hello', 'Good', 'day'], ['Bye', 'See', 'later', 'Goodbye', 'Nice', 'chatting', 'bye', 'Till', 'next', 'time'], ['Thanks', 'Thank', 'Thats', 'helpful', 'Awesome', 'thanks', 'Thanks', 'helping'], [], ['could', 'help', 'help', 'provide', 'helpful'], ['order', 'id', '431B67', 'track', 'order', '562B78', 'order', 'id', '561A24'], ['order', 'id', '345A23', 'comprises', 'List', 'components'], ['order', 'order', 'locate', 'order', 'Delivery', 'date', 'order'], ['find', 'order', 'location', '32712', 'Location', 'order', '23A31'], ['want', 'appoitment', 'Manoj', 'kumar', 'set', 'appointment', 'Sujata', 'Nandi'], ['appointment', 'fixed', 'appointment', 'today'], ['Sujata', 'Nandi', 'leave', 'Manish', 'Kumar', 'leave'], ['Cost', 'Lowering', 'changes', 'made', 'changes', 'could', 'lower', 'cost'], ['forgot', 'Login', 'password', 'someone', 'forgets', 'Login', 'password', 'forgot', 'Laptop', 'password', 'Forgot', 'Wifi', 'password'], ['abxgmailcom', 'abckiitacin'], ['Find', 'manufacturer', 'nearby'], ['want', 'know', 'various', 'departments', 'company'], ['challenging', 'events', 'threats', 'market'], ['Target', 'customers', 'key', 'customers'], ['information', 'shared', 'supplier'], ['highest', 'grossing', 'product'], ['want', 'meet', 'head', 'HRITProjects', 'department', 'want', 'meet', 'head', 'Rakesh', 'sharma'], ['complaint', 'raised', 'Insufficient', 'Team', 'Skills', 'Miscommunication', 'Conflicts', 'needs', 'resolved', 'Risk', 'Management', 'issue', 'occured', 'skilled', 'employees', 'needed', 'urgently'], ['Lack', 'product', 'clarity', 'specifications', 'product', 'clear', 'customer'], ['user', 'needs', 'updated', 'software', 'version', 'user', 'demands', 'software', 'updation'], ['problem', 'related', 'Job', 'design', 'analysis', 'query', 'based', 'Workforce', 'planning', 'Training', 'development', 'issues', 'handled', 'Compensation', 'benefits', 'working', 'employee', 'Legal', 'issues', 'department', 'like', 'accidents', 'company'], ['Impact', 'sale', 'factors', 'impacting', 'sale', 'year'], ['improved', 'sale', 'last', 'year', 'profit', 'year'], ['customer', 'response', 'customer', 'happy', 'customer', 'feedback'], ['maintainence', 'related', 'queries', 'recorded'], ['gadgets', 'stock', 'products'], ['Commission', 'rate', 'Commission', 'rate', 'product'], ['Marry', 'love', 'date', 'chat', 'bored'], []]\n",
      "[['Hi', 'anyone', 'Hey', 'Hola', 'Hello', 'Good', 'day'], ['Bye', 'See', 'later', 'Goodbye', 'Nice', 'chatting', 'bye', 'Till', 'next', 'time'], ['Thanks', 'Thank', 'Thats', 'helpful', 'Awesome', 'thanks', 'Thanks', 'helping'], [], ['could', 'help', 'help', 'provide', 'helpful'], ['order', 'id', '431B67', 'track', 'order', '562B78', 'order', 'id', '561A24'], ['order', 'id', '345A23', 'comprises', 'List', 'components'], ['order', 'order', 'locate', 'order', 'Delivery', 'date', 'order'], ['find', 'order', 'location', '32712', 'Location', 'order', '23A31'], ['want', 'appoitment', 'Manoj', 'kumar', 'set', 'appointment', 'Sujata', 'Nandi'], ['appointment', 'fixed', 'appointment', 'today'], ['Sujata', 'Nandi', 'leave', 'Manish', 'Kumar', 'leave'], ['Cost', 'Lowering', 'changes', 'made', 'changes', 'could', 'lower', 'cost'], ['forgot', 'Login', 'password', 'someone', 'forgets', 'Login', 'password', 'forgot', 'Laptop', 'password', 'Forgot', 'Wifi', 'password'], ['abxgmailcom', 'abckiitacin'], ['Find', 'manufacturer', 'nearby'], ['want', 'know', 'various', 'departments', 'company'], ['challenging', 'events', 'threats', 'market'], ['Target', 'customers', 'key', 'customers'], ['information', 'shared', 'supplier'], ['highest', 'grossing', 'product'], ['want', 'meet', 'head', 'HRITProjects', 'department', 'want', 'meet', 'head', 'Rakesh', 'sharma'], ['complaint', 'raised', 'Insufficient', 'Team', 'Skills', 'Miscommunication', 'Conflicts', 'needs', 'resolved', 'Risk', 'Management', 'issue', 'occured', 'skilled', 'employees', 'needed', 'urgently'], ['Lack', 'product', 'clarity', 'specifications', 'product', 'clear', 'customer'], ['user', 'needs', 'updated', 'software', 'version', 'user', 'demands', 'software', 'updation'], ['problem', 'related', 'Job', 'design', 'analysis', 'query', 'based', 'Workforce', 'planning', 'Training', 'development', 'issues', 'handled', 'Compensation', 'benefits', 'working', 'employee', 'Legal', 'issues', 'department', 'like', 'accidents', 'company'], ['Impact', 'sale', 'factors', 'impacting', 'sale', 'year'], ['improved', 'sale', 'last', 'year', 'profit', 'year'], ['customer', 'response', 'customer', 'happy', 'customer', 'feedback'], ['maintainence', 'related', 'queries', 'recorded'], ['gadgets', 'stock', 'products'], ['Commission', 'rate', 'Commission', 'rate', 'product'], ['Marry', 'love', 'date', 'chat', 'bored'], [], ['turnover', 'company', 'present']]\n",
      "[['Hi', 'anyone', 'Hey', 'Hola', 'Hello', 'Good', 'day'], ['Bye', 'See', 'later', 'Goodbye', 'Nice', 'chatting', 'bye', 'Till', 'next', 'time'], ['Thanks', 'Thank', 'Thats', 'helpful', 'Awesome', 'thanks', 'Thanks', 'helping'], [], ['could', 'help', 'help', 'provide', 'helpful'], ['order', 'id', '431B67', 'track', 'order', '562B78', 'order', 'id', '561A24'], ['order', 'id', '345A23', 'comprises', 'List', 'components'], ['order', 'order', 'locate', 'order', 'Delivery', 'date', 'order'], ['find', 'order', 'location', '32712', 'Location', 'order', '23A31'], ['want', 'appoitment', 'Manoj', 'kumar', 'set', 'appointment', 'Sujata', 'Nandi'], ['appointment', 'fixed', 'appointment', 'today'], ['Sujata', 'Nandi', 'leave', 'Manish', 'Kumar', 'leave'], ['Cost', 'Lowering', 'changes', 'made', 'changes', 'could', 'lower', 'cost'], ['forgot', 'Login', 'password', 'someone', 'forgets', 'Login', 'password', 'forgot', 'Laptop', 'password', 'Forgot', 'Wifi', 'password'], ['abxgmailcom', 'abckiitacin'], ['Find', 'manufacturer', 'nearby'], ['want', 'know', 'various', 'departments', 'company'], ['challenging', 'events', 'threats', 'market'], ['Target', 'customers', 'key', 'customers'], ['information', 'shared', 'supplier'], ['highest', 'grossing', 'product'], ['want', 'meet', 'head', 'HRITProjects', 'department', 'want', 'meet', 'head', 'Rakesh', 'sharma'], ['complaint', 'raised', 'Insufficient', 'Team', 'Skills', 'Miscommunication', 'Conflicts', 'needs', 'resolved', 'Risk', 'Management', 'issue', 'occured', 'skilled', 'employees', 'needed', 'urgently'], ['Lack', 'product', 'clarity', 'specifications', 'product', 'clear', 'customer'], ['user', 'needs', 'updated', 'software', 'version', 'user', 'demands', 'software', 'updation'], ['problem', 'related', 'Job', 'design', 'analysis', 'query', 'based', 'Workforce', 'planning', 'Training', 'development', 'issues', 'handled', 'Compensation', 'benefits', 'working', 'employee', 'Legal', 'issues', 'department', 'like', 'accidents', 'company'], ['Impact', 'sale', 'factors', 'impacting', 'sale', 'year'], ['improved', 'sale', 'last', 'year', 'profit', 'year'], ['customer', 'response', 'customer', 'happy', 'customer', 'feedback'], ['maintainence', 'related', 'queries', 'recorded'], ['gadgets', 'stock', 'products'], ['Commission', 'rate', 'Commission', 'rate', 'product'], ['Marry', 'love', 'date', 'chat', 'bored'], [], ['turnover', 'company', 'present'], ['order', '23A12', 'delayed']]\n",
      "[['Hi', 'anyone', 'Hey', 'Hola', 'Hello', 'Good', 'day'], ['Bye', 'See', 'later', 'Goodbye', 'Nice', 'chatting', 'bye', 'Till', 'next', 'time'], ['Thanks', 'Thank', 'Thats', 'helpful', 'Awesome', 'thanks', 'Thanks', 'helping'], [], ['could', 'help', 'help', 'provide', 'helpful'], ['order', 'id', '431B67', 'track', 'order', '562B78', 'order', 'id', '561A24'], ['order', 'id', '345A23', 'comprises', 'List', 'components'], ['order', 'order', 'locate', 'order', 'Delivery', 'date', 'order'], ['find', 'order', 'location', '32712', 'Location', 'order', '23A31'], ['want', 'appoitment', 'Manoj', 'kumar', 'set', 'appointment', 'Sujata', 'Nandi'], ['appointment', 'fixed', 'appointment', 'today'], ['Sujata', 'Nandi', 'leave', 'Manish', 'Kumar', 'leave'], ['Cost', 'Lowering', 'changes', 'made', 'changes', 'could', 'lower', 'cost'], ['forgot', 'Login', 'password', 'someone', 'forgets', 'Login', 'password', 'forgot', 'Laptop', 'password', 'Forgot', 'Wifi', 'password'], ['abxgmailcom', 'abckiitacin'], ['Find', 'manufacturer', 'nearby'], ['want', 'know', 'various', 'departments', 'company'], ['challenging', 'events', 'threats', 'market'], ['Target', 'customers', 'key', 'customers'], ['information', 'shared', 'supplier'], ['highest', 'grossing', 'product'], ['want', 'meet', 'head', 'HRITProjects', 'department', 'want', 'meet', 'head', 'Rakesh', 'sharma'], ['complaint', 'raised', 'Insufficient', 'Team', 'Skills', 'Miscommunication', 'Conflicts', 'needs', 'resolved', 'Risk', 'Management', 'issue', 'occured', 'skilled', 'employees', 'needed', 'urgently'], ['Lack', 'product', 'clarity', 'specifications', 'product', 'clear', 'customer'], ['user', 'needs', 'updated', 'software', 'version', 'user', 'demands', 'software', 'updation'], ['problem', 'related', 'Job', 'design', 'analysis', 'query', 'based', 'Workforce', 'planning', 'Training', 'development', 'issues', 'handled', 'Compensation', 'benefits', 'working', 'employee', 'Legal', 'issues', 'department', 'like', 'accidents', 'company'], ['Impact', 'sale', 'factors', 'impacting', 'sale', 'year'], ['improved', 'sale', 'last', 'year', 'profit', 'year'], ['customer', 'response', 'customer', 'happy', 'customer', 'feedback'], ['maintainence', 'related', 'queries', 'recorded'], ['gadgets', 'stock', 'products'], ['Commission', 'rate', 'Commission', 'rate', 'product'], ['Marry', 'love', 'date', 'chat', 'bored'], [], ['turnover', 'company', 'present'], ['order', '23A12', 'delayed'], ['order', '23A12', 'delayed']]\n",
      "[['Hi', 'anyone', 'Hey', 'Hola', 'Hello', 'Good', 'day'], ['Bye', 'See', 'later', 'Goodbye', 'Nice', 'chatting', 'bye', 'Till', 'next', 'time'], ['Thanks', 'Thank', 'Thats', 'helpful', 'Awesome', 'thanks', 'Thanks', 'helping'], [], ['could', 'help', 'help', 'provide', 'helpful'], ['order', 'id', '431B67', 'track', 'order', '562B78', 'order', 'id', '561A24'], ['order', 'id', '345A23', 'comprises', 'List', 'components'], ['order', 'order', 'locate', 'order', 'Delivery', 'date', 'order'], ['find', 'order', 'location', '32712', 'Location', 'order', '23A31'], ['want', 'appoitment', 'Manoj', 'kumar', 'set', 'appointment', 'Sujata', 'Nandi'], ['appointment', 'fixed', 'appointment', 'today'], ['Sujata', 'Nandi', 'leave', 'Manish', 'Kumar', 'leave'], ['Cost', 'Lowering', 'changes', 'made', 'changes', 'could', 'lower', 'cost'], ['forgot', 'Login', 'password', 'someone', 'forgets', 'Login', 'password', 'forgot', 'Laptop', 'password', 'Forgot', 'Wifi', 'password'], ['abxgmailcom', 'abckiitacin'], ['Find', 'manufacturer', 'nearby'], ['want', 'know', 'various', 'departments', 'company'], ['challenging', 'events', 'threats', 'market'], ['Target', 'customers', 'key', 'customers'], ['information', 'shared', 'supplier'], ['highest', 'grossing', 'product'], ['want', 'meet', 'head', 'HRITProjects', 'department', 'want', 'meet', 'head', 'Rakesh', 'sharma'], ['complaint', 'raised', 'Insufficient', 'Team', 'Skills', 'Miscommunication', 'Conflicts', 'needs', 'resolved', 'Risk', 'Management', 'issue', 'occured', 'skilled', 'employees', 'needed', 'urgently'], ['Lack', 'product', 'clarity', 'specifications', 'product', 'clear', 'customer'], ['user', 'needs', 'updated', 'software', 'version', 'user', 'demands', 'software', 'updation'], ['problem', 'related', 'Job', 'design', 'analysis', 'query', 'based', 'Workforce', 'planning', 'Training', 'development', 'issues', 'handled', 'Compensation', 'benefits', 'working', 'employee', 'Legal', 'issues', 'department', 'like', 'accidents', 'company'], ['Impact', 'sale', 'factors', 'impacting', 'sale', 'year'], ['improved', 'sale', 'last', 'year', 'profit', 'year'], ['customer', 'response', 'customer', 'happy', 'customer', 'feedback'], ['maintainence', 'related', 'queries', 'recorded'], ['gadgets', 'stock', 'products'], ['Commission', 'rate', 'Commission', 'rate', 'product'], ['Marry', 'love', 'date', 'chat', 'bored'], [], ['turnover', 'company', 'present'], ['order', '23A12', 'delayed'], ['order', '23A12', 'delayed'], ['name', 'call']]\n",
      "[['Hi', 'anyone', 'Hey', 'Hola', 'Hello', 'Good', 'day'], ['Bye', 'See', 'later', 'Goodbye', 'Nice', 'chatting', 'bye', 'Till', 'next', 'time'], ['Thanks', 'Thank', 'Thats', 'helpful', 'Awesome', 'thanks', 'Thanks', 'helping'], [], ['could', 'help', 'help', 'provide', 'helpful'], ['order', 'id', '431B67', 'track', 'order', '562B78', 'order', 'id', '561A24'], ['order', 'id', '345A23', 'comprises', 'List', 'components'], ['order', 'order', 'locate', 'order', 'Delivery', 'date', 'order'], ['find', 'order', 'location', '32712', 'Location', 'order', '23A31'], ['want', 'appoitment', 'Manoj', 'kumar', 'set', 'appointment', 'Sujata', 'Nandi'], ['appointment', 'fixed', 'appointment', 'today'], ['Sujata', 'Nandi', 'leave', 'Manish', 'Kumar', 'leave'], ['Cost', 'Lowering', 'changes', 'made', 'changes', 'could', 'lower', 'cost'], ['forgot', 'Login', 'password', 'someone', 'forgets', 'Login', 'password', 'forgot', 'Laptop', 'password', 'Forgot', 'Wifi', 'password'], ['abxgmailcom', 'abckiitacin'], ['Find', 'manufacturer', 'nearby'], ['want', 'know', 'various', 'departments', 'company'], ['challenging', 'events', 'threats', 'market'], ['Target', 'customers', 'key', 'customers'], ['information', 'shared', 'supplier'], ['highest', 'grossing', 'product'], ['want', 'meet', 'head', 'HRITProjects', 'department', 'want', 'meet', 'head', 'Rakesh', 'sharma'], ['complaint', 'raised', 'Insufficient', 'Team', 'Skills', 'Miscommunication', 'Conflicts', 'needs', 'resolved', 'Risk', 'Management', 'issue', 'occured', 'skilled', 'employees', 'needed', 'urgently'], ['Lack', 'product', 'clarity', 'specifications', 'product', 'clear', 'customer'], ['user', 'needs', 'updated', 'software', 'version', 'user', 'demands', 'software', 'updation'], ['problem', 'related', 'Job', 'design', 'analysis', 'query', 'based', 'Workforce', 'planning', 'Training', 'development', 'issues', 'handled', 'Compensation', 'benefits', 'working', 'employee', 'Legal', 'issues', 'department', 'like', 'accidents', 'company'], ['Impact', 'sale', 'factors', 'impacting', 'sale', 'year'], ['improved', 'sale', 'last', 'year', 'profit', 'year'], ['customer', 'response', 'customer', 'happy', 'customer', 'feedback'], ['maintainence', 'related', 'queries', 'recorded'], ['gadgets', 'stock', 'products'], ['Commission', 'rate', 'Commission', 'rate', 'product'], ['Marry', 'love', 'date', 'chat', 'bored'], [], ['turnover', 'company', 'present'], ['order', '23A12', 'delayed'], ['order', '23A12', 'delayed'], ['name', 'call'], []]\n",
      "[['Hi', 'anyone', 'Hey', 'Hola', 'Hello', 'Good', 'day'], ['Bye', 'See', 'later', 'Goodbye', 'Nice', 'chatting', 'bye', 'Till', 'next', 'time'], ['Thanks', 'Thank', 'Thats', 'helpful', 'Awesome', 'thanks', 'Thanks', 'helping'], [], ['could', 'help', 'help', 'provide', 'helpful'], ['order', 'id', '431B67', 'track', 'order', '562B78', 'order', 'id', '561A24'], ['order', 'id', '345A23', 'comprises', 'List', 'components'], ['order', 'order', 'locate', 'order', 'Delivery', 'date', 'order'], ['find', 'order', 'location', '32712', 'Location', 'order', '23A31'], ['want', 'appoitment', 'Manoj', 'kumar', 'set', 'appointment', 'Sujata', 'Nandi'], ['appointment', 'fixed', 'appointment', 'today'], ['Sujata', 'Nandi', 'leave', 'Manish', 'Kumar', 'leave'], ['Cost', 'Lowering', 'changes', 'made', 'changes', 'could', 'lower', 'cost'], ['forgot', 'Login', 'password', 'someone', 'forgets', 'Login', 'password', 'forgot', 'Laptop', 'password', 'Forgot', 'Wifi', 'password'], ['abxgmailcom', 'abckiitacin'], ['Find', 'manufacturer', 'nearby'], ['want', 'know', 'various', 'departments', 'company'], ['challenging', 'events', 'threats', 'market'], ['Target', 'customers', 'key', 'customers'], ['information', 'shared', 'supplier'], ['highest', 'grossing', 'product'], ['want', 'meet', 'head', 'HRITProjects', 'department', 'want', 'meet', 'head', 'Rakesh', 'sharma'], ['complaint', 'raised', 'Insufficient', 'Team', 'Skills', 'Miscommunication', 'Conflicts', 'needs', 'resolved', 'Risk', 'Management', 'issue', 'occured', 'skilled', 'employees', 'needed', 'urgently'], ['Lack', 'product', 'clarity', 'specifications', 'product', 'clear', 'customer'], ['user', 'needs', 'updated', 'software', 'version', 'user', 'demands', 'software', 'updation'], ['problem', 'related', 'Job', 'design', 'analysis', 'query', 'based', 'Workforce', 'planning', 'Training', 'development', 'issues', 'handled', 'Compensation', 'benefits', 'working', 'employee', 'Legal', 'issues', 'department', 'like', 'accidents', 'company'], ['Impact', 'sale', 'factors', 'impacting', 'sale', 'year'], ['improved', 'sale', 'last', 'year', 'profit', 'year'], ['customer', 'response', 'customer', 'happy', 'customer', 'feedback'], ['maintainence', 'related', 'queries', 'recorded'], ['gadgets', 'stock', 'products'], ['Commission', 'rate', 'Commission', 'rate', 'product'], ['Marry', 'love', 'date', 'chat', 'bored'], [], ['turnover', 'company', 'present'], ['order', '23A12', 'delayed'], ['order', '23A12', 'delayed'], ['name', 'call'], [], ['configure', 'laptop', 'software', 'configuration', 'laptop', 'steps', 'configure', 'laptop', 'configure', 'computer', 'software', 'configuration', 'computer', 'steps', 'configure', 'computer', 'configure', 'desktop', 'software', 'configuration', 'desktop', 'steps', 'configure', 'desktop']]\n",
      "[['Hi', 'anyone', 'Hey', 'Hola', 'Hello', 'Good', 'day'], ['Bye', 'See', 'later', 'Goodbye', 'Nice', 'chatting', 'bye', 'Till', 'next', 'time'], ['Thanks', 'Thank', 'Thats', 'helpful', 'Awesome', 'thanks', 'Thanks', 'helping'], [], ['could', 'help', 'help', 'provide', 'helpful'], ['order', 'id', '431B67', 'track', 'order', '562B78', 'order', 'id', '561A24'], ['order', 'id', '345A23', 'comprises', 'List', 'components'], ['order', 'order', 'locate', 'order', 'Delivery', 'date', 'order'], ['find', 'order', 'location', '32712', 'Location', 'order', '23A31'], ['want', 'appoitment', 'Manoj', 'kumar', 'set', 'appointment', 'Sujata', 'Nandi'], ['appointment', 'fixed', 'appointment', 'today'], ['Sujata', 'Nandi', 'leave', 'Manish', 'Kumar', 'leave'], ['Cost', 'Lowering', 'changes', 'made', 'changes', 'could', 'lower', 'cost'], ['forgot', 'Login', 'password', 'someone', 'forgets', 'Login', 'password', 'forgot', 'Laptop', 'password', 'Forgot', 'Wifi', 'password'], ['abxgmailcom', 'abckiitacin'], ['Find', 'manufacturer', 'nearby'], ['want', 'know', 'various', 'departments', 'company'], ['challenging', 'events', 'threats', 'market'], ['Target', 'customers', 'key', 'customers'], ['information', 'shared', 'supplier'], ['highest', 'grossing', 'product'], ['want', 'meet', 'head', 'HRITProjects', 'department', 'want', 'meet', 'head', 'Rakesh', 'sharma'], ['complaint', 'raised', 'Insufficient', 'Team', 'Skills', 'Miscommunication', 'Conflicts', 'needs', 'resolved', 'Risk', 'Management', 'issue', 'occured', 'skilled', 'employees', 'needed', 'urgently'], ['Lack', 'product', 'clarity', 'specifications', 'product', 'clear', 'customer'], ['user', 'needs', 'updated', 'software', 'version', 'user', 'demands', 'software', 'updation'], ['problem', 'related', 'Job', 'design', 'analysis', 'query', 'based', 'Workforce', 'planning', 'Training', 'development', 'issues', 'handled', 'Compensation', 'benefits', 'working', 'employee', 'Legal', 'issues', 'department', 'like', 'accidents', 'company'], ['Impact', 'sale', 'factors', 'impacting', 'sale', 'year'], ['improved', 'sale', 'last', 'year', 'profit', 'year'], ['customer', 'response', 'customer', 'happy', 'customer', 'feedback'], ['maintainence', 'related', 'queries', 'recorded'], ['gadgets', 'stock', 'products'], ['Commission', 'rate', 'Commission', 'rate', 'product'], ['Marry', 'love', 'date', 'chat', 'bored'], [], ['turnover', 'company', 'present'], ['order', '23A12', 'delayed'], ['order', '23A12', 'delayed'], ['name', 'call'], [], ['configure', 'laptop', 'software', 'configuration', 'laptop', 'steps', 'configure', 'laptop', 'configure', 'computer', 'software', 'configuration', 'computer', 'steps', 'configure', 'computer', 'configure', 'desktop', 'software', 'configuration', 'desktop', 'steps', 'configure', 'desktop'], ['weather', 'today']]\n",
      "[['Hi', 'anyone', 'Hey', 'Hola', 'Hello', 'Good', 'day'], ['Bye', 'See', 'later', 'Goodbye', 'Nice', 'chatting', 'bye', 'Till', 'next', 'time'], ['Thanks', 'Thank', 'Thats', 'helpful', 'Awesome', 'thanks', 'Thanks', 'helping'], [], ['could', 'help', 'help', 'provide', 'helpful'], ['order', 'id', '431B67', 'track', 'order', '562B78', 'order', 'id', '561A24'], ['order', 'id', '345A23', 'comprises', 'List', 'components'], ['order', 'order', 'locate', 'order', 'Delivery', 'date', 'order'], ['find', 'order', 'location', '32712', 'Location', 'order', '23A31'], ['want', 'appoitment', 'Manoj', 'kumar', 'set', 'appointment', 'Sujata', 'Nandi'], ['appointment', 'fixed', 'appointment', 'today'], ['Sujata', 'Nandi', 'leave', 'Manish', 'Kumar', 'leave'], ['Cost', 'Lowering', 'changes', 'made', 'changes', 'could', 'lower', 'cost'], ['forgot', 'Login', 'password', 'someone', 'forgets', 'Login', 'password', 'forgot', 'Laptop', 'password', 'Forgot', 'Wifi', 'password'], ['abxgmailcom', 'abckiitacin'], ['Find', 'manufacturer', 'nearby'], ['want', 'know', 'various', 'departments', 'company'], ['challenging', 'events', 'threats', 'market'], ['Target', 'customers', 'key', 'customers'], ['information', 'shared', 'supplier'], ['highest', 'grossing', 'product'], ['want', 'meet', 'head', 'HRITProjects', 'department', 'want', 'meet', 'head', 'Rakesh', 'sharma'], ['complaint', 'raised', 'Insufficient', 'Team', 'Skills', 'Miscommunication', 'Conflicts', 'needs', 'resolved', 'Risk', 'Management', 'issue', 'occured', 'skilled', 'employees', 'needed', 'urgently'], ['Lack', 'product', 'clarity', 'specifications', 'product', 'clear', 'customer'], ['user', 'needs', 'updated', 'software', 'version', 'user', 'demands', 'software', 'updation'], ['problem', 'related', 'Job', 'design', 'analysis', 'query', 'based', 'Workforce', 'planning', 'Training', 'development', 'issues', 'handled', 'Compensation', 'benefits', 'working', 'employee', 'Legal', 'issues', 'department', 'like', 'accidents', 'company'], ['Impact', 'sale', 'factors', 'impacting', 'sale', 'year'], ['improved', 'sale', 'last', 'year', 'profit', 'year'], ['customer', 'response', 'customer', 'happy', 'customer', 'feedback'], ['maintainence', 'related', 'queries', 'recorded'], ['gadgets', 'stock', 'products'], ['Commission', 'rate', 'Commission', 'rate', 'product'], ['Marry', 'love', 'date', 'chat', 'bored'], [], ['turnover', 'company', 'present'], ['order', '23A12', 'delayed'], ['order', '23A12', 'delayed'], ['name', 'call'], [], ['configure', 'laptop', 'software', 'configuration', 'laptop', 'steps', 'configure', 'laptop', 'configure', 'computer', 'software', 'configuration', 'computer', 'steps', 'configure', 'computer', 'configure', 'desktop', 'software', 'configuration', 'desktop', 'steps', 'configure', 'desktop'], ['weather', 'today'], ['Michel', 'Sharma', 'leave', 'Siddhart', 'Roy', 'present', 'today', 'Shantanu', 'Bhatt', 'office']]\n",
      "[['Hi', 'anyone', 'Hey', 'Hola', 'Hello', 'Good', 'day'], ['Bye', 'See', 'later', 'Goodbye', 'Nice', 'chatting', 'bye', 'Till', 'next', 'time'], ['Thanks', 'Thank', 'Thats', 'helpful', 'Awesome', 'thanks', 'Thanks', 'helping'], [], ['could', 'help', 'help', 'provide', 'helpful'], ['order', 'id', '431B67', 'track', 'order', '562B78', 'order', 'id', '561A24'], ['order', 'id', '345A23', 'comprises', 'List', 'components'], ['order', 'order', 'locate', 'order', 'Delivery', 'date', 'order'], ['find', 'order', 'location', '32712', 'Location', 'order', '23A31'], ['want', 'appoitment', 'Manoj', 'kumar', 'set', 'appointment', 'Sujata', 'Nandi'], ['appointment', 'fixed', 'appointment', 'today'], ['Sujata', 'Nandi', 'leave', 'Manish', 'Kumar', 'leave'], ['Cost', 'Lowering', 'changes', 'made', 'changes', 'could', 'lower', 'cost'], ['forgot', 'Login', 'password', 'someone', 'forgets', 'Login', 'password', 'forgot', 'Laptop', 'password', 'Forgot', 'Wifi', 'password'], ['abxgmailcom', 'abckiitacin'], ['Find', 'manufacturer', 'nearby'], ['want', 'know', 'various', 'departments', 'company'], ['challenging', 'events', 'threats', 'market'], ['Target', 'customers', 'key', 'customers'], ['information', 'shared', 'supplier'], ['highest', 'grossing', 'product'], ['want', 'meet', 'head', 'HRITProjects', 'department', 'want', 'meet', 'head', 'Rakesh', 'sharma'], ['complaint', 'raised', 'Insufficient', 'Team', 'Skills', 'Miscommunication', 'Conflicts', 'needs', 'resolved', 'Risk', 'Management', 'issue', 'occured', 'skilled', 'employees', 'needed', 'urgently'], ['Lack', 'product', 'clarity', 'specifications', 'product', 'clear', 'customer'], ['user', 'needs', 'updated', 'software', 'version', 'user', 'demands', 'software', 'updation'], ['problem', 'related', 'Job', 'design', 'analysis', 'query', 'based', 'Workforce', 'planning', 'Training', 'development', 'issues', 'handled', 'Compensation', 'benefits', 'working', 'employee', 'Legal', 'issues', 'department', 'like', 'accidents', 'company'], ['Impact', 'sale', 'factors', 'impacting', 'sale', 'year'], ['improved', 'sale', 'last', 'year', 'profit', 'year'], ['customer', 'response', 'customer', 'happy', 'customer', 'feedback'], ['maintainence', 'related', 'queries', 'recorded'], ['gadgets', 'stock', 'products'], ['Commission', 'rate', 'Commission', 'rate', 'product'], ['Marry', 'love', 'date', 'chat', 'bored'], [], ['turnover', 'company', 'present'], ['order', '23A12', 'delayed'], ['order', '23A12', 'delayed'], ['name', 'call'], [], ['configure', 'laptop', 'software', 'configuration', 'laptop', 'steps', 'configure', 'laptop', 'configure', 'computer', 'software', 'configuration', 'computer', 'steps', 'configure', 'computer', 'configure', 'desktop', 'software', 'configuration', 'desktop', 'steps', 'configure', 'desktop'], ['weather', 'today'], ['Michel', 'Sharma', 'leave', 'Siddhart', 'Roy', 'present', 'today', 'Shantanu', 'Bhatt', 'office'], ['Opening', 'hours', 'cafeteria', 'cafeteria', 'open', 'office', 'canteen', 'opening', 'time']]\n",
      "[['Hi', 'anyone', 'Hey', 'Hola', 'Hello', 'Good', 'day'], ['Bye', 'See', 'later', 'Goodbye', 'Nice', 'chatting', 'bye', 'Till', 'next', 'time'], ['Thanks', 'Thank', 'Thats', 'helpful', 'Awesome', 'thanks', 'Thanks', 'helping'], [], ['could', 'help', 'help', 'provide', 'helpful'], ['order', 'id', '431B67', 'track', 'order', '562B78', 'order', 'id', '561A24'], ['order', 'id', '345A23', 'comprises', 'List', 'components'], ['order', 'order', 'locate', 'order', 'Delivery', 'date', 'order'], ['find', 'order', 'location', '32712', 'Location', 'order', '23A31'], ['want', 'appoitment', 'Manoj', 'kumar', 'set', 'appointment', 'Sujata', 'Nandi'], ['appointment', 'fixed', 'appointment', 'today'], ['Sujata', 'Nandi', 'leave', 'Manish', 'Kumar', 'leave'], ['Cost', 'Lowering', 'changes', 'made', 'changes', 'could', 'lower', 'cost'], ['forgot', 'Login', 'password', 'someone', 'forgets', 'Login', 'password', 'forgot', 'Laptop', 'password', 'Forgot', 'Wifi', 'password'], ['abxgmailcom', 'abckiitacin'], ['Find', 'manufacturer', 'nearby'], ['want', 'know', 'various', 'departments', 'company'], ['challenging', 'events', 'threats', 'market'], ['Target', 'customers', 'key', 'customers'], ['information', 'shared', 'supplier'], ['highest', 'grossing', 'product'], ['want', 'meet', 'head', 'HRITProjects', 'department', 'want', 'meet', 'head', 'Rakesh', 'sharma'], ['complaint', 'raised', 'Insufficient', 'Team', 'Skills', 'Miscommunication', 'Conflicts', 'needs', 'resolved', 'Risk', 'Management', 'issue', 'occured', 'skilled', 'employees', 'needed', 'urgently'], ['Lack', 'product', 'clarity', 'specifications', 'product', 'clear', 'customer'], ['user', 'needs', 'updated', 'software', 'version', 'user', 'demands', 'software', 'updation'], ['problem', 'related', 'Job', 'design', 'analysis', 'query', 'based', 'Workforce', 'planning', 'Training', 'development', 'issues', 'handled', 'Compensation', 'benefits', 'working', 'employee', 'Legal', 'issues', 'department', 'like', 'accidents', 'company'], ['Impact', 'sale', 'factors', 'impacting', 'sale', 'year'], ['improved', 'sale', 'last', 'year', 'profit', 'year'], ['customer', 'response', 'customer', 'happy', 'customer', 'feedback'], ['maintainence', 'related', 'queries', 'recorded'], ['gadgets', 'stock', 'products'], ['Commission', 'rate', 'Commission', 'rate', 'product'], ['Marry', 'love', 'date', 'chat', 'bored'], [], ['turnover', 'company', 'present'], ['order', '23A12', 'delayed'], ['order', '23A12', 'delayed'], ['name', 'call'], [], ['configure', 'laptop', 'software', 'configuration', 'laptop', 'steps', 'configure', 'laptop', 'configure', 'computer', 'software', 'configuration', 'computer', 'steps', 'configure', 'computer', 'configure', 'desktop', 'software', 'configuration', 'desktop', 'steps', 'configure', 'desktop'], ['weather', 'today'], ['Michel', 'Sharma', 'leave', 'Siddhart', 'Roy', 'present', 'today', 'Shantanu', 'Bhatt', 'office'], ['Opening', 'hours', 'cafeteria', 'cafeteria', 'open', 'office', 'canteen', 'opening', 'time'], ['VP', 'cabin', 'Head', 'cabin', 'AI', 'department', 'Project', 'head', 'department', 'cafeteria', 'guide', 'canteen']]\n",
      "[['Hi', 'anyone', 'Hey', 'Hola', 'Hello', 'Good', 'day'], ['Bye', 'See', 'later', 'Goodbye', 'Nice', 'chatting', 'bye', 'Till', 'next', 'time'], ['Thanks', 'Thank', 'Thats', 'helpful', 'Awesome', 'thanks', 'Thanks', 'helping'], [], ['could', 'help', 'help', 'provide', 'helpful'], ['order', 'id', '431B67', 'track', 'order', '562B78', 'order', 'id', '561A24'], ['order', 'id', '345A23', 'comprises', 'List', 'components'], ['order', 'order', 'locate', 'order', 'Delivery', 'date', 'order'], ['find', 'order', 'location', '32712', 'Location', 'order', '23A31'], ['want', 'appoitment', 'Manoj', 'kumar', 'set', 'appointment', 'Sujata', 'Nandi'], ['appointment', 'fixed', 'appointment', 'today'], ['Sujata', 'Nandi', 'leave', 'Manish', 'Kumar', 'leave'], ['Cost', 'Lowering', 'changes', 'made', 'changes', 'could', 'lower', 'cost'], ['forgot', 'Login', 'password', 'someone', 'forgets', 'Login', 'password', 'forgot', 'Laptop', 'password', 'Forgot', 'Wifi', 'password'], ['abxgmailcom', 'abckiitacin'], ['Find', 'manufacturer', 'nearby'], ['want', 'know', 'various', 'departments', 'company'], ['challenging', 'events', 'threats', 'market'], ['Target', 'customers', 'key', 'customers'], ['information', 'shared', 'supplier'], ['highest', 'grossing', 'product'], ['want', 'meet', 'head', 'HRITProjects', 'department', 'want', 'meet', 'head', 'Rakesh', 'sharma'], ['complaint', 'raised', 'Insufficient', 'Team', 'Skills', 'Miscommunication', 'Conflicts', 'needs', 'resolved', 'Risk', 'Management', 'issue', 'occured', 'skilled', 'employees', 'needed', 'urgently'], ['Lack', 'product', 'clarity', 'specifications', 'product', 'clear', 'customer'], ['user', 'needs', 'updated', 'software', 'version', 'user', 'demands', 'software', 'updation'], ['problem', 'related', 'Job', 'design', 'analysis', 'query', 'based', 'Workforce', 'planning', 'Training', 'development', 'issues', 'handled', 'Compensation', 'benefits', 'working', 'employee', 'Legal', 'issues', 'department', 'like', 'accidents', 'company'], ['Impact', 'sale', 'factors', 'impacting', 'sale', 'year'], ['improved', 'sale', 'last', 'year', 'profit', 'year'], ['customer', 'response', 'customer', 'happy', 'customer', 'feedback'], ['maintainence', 'related', 'queries', 'recorded'], ['gadgets', 'stock', 'products'], ['Commission', 'rate', 'Commission', 'rate', 'product'], ['Marry', 'love', 'date', 'chat', 'bored'], [], ['turnover', 'company', 'present'], ['order', '23A12', 'delayed'], ['order', '23A12', 'delayed'], ['name', 'call'], [], ['configure', 'laptop', 'software', 'configuration', 'laptop', 'steps', 'configure', 'laptop', 'configure', 'computer', 'software', 'configuration', 'computer', 'steps', 'configure', 'computer', 'configure', 'desktop', 'software', 'configuration', 'desktop', 'steps', 'configure', 'desktop'], ['weather', 'today'], ['Michel', 'Sharma', 'leave', 'Siddhart', 'Roy', 'present', 'today', 'Shantanu', 'Bhatt', 'office'], ['Opening', 'hours', 'cafeteria', 'cafeteria', 'open', 'office', 'canteen', 'opening', 'time'], ['VP', 'cabin', 'Head', 'cabin', 'AI', 'department', 'Project', 'head', 'department', 'cafeteria', 'guide', 'canteen'], ['improve', 'team', 'members', 'domain', 'knowledge', 'improving', 'domain', 'knowledge', 'team', 'members']]\n"
     ]
    }
   ],
   "source": [
    "from gensim.models import Word2Vec\n",
    "blist = []\n",
    "\n",
    "for i in work_df['patterns']:\n",
    "    blist.append(i)\n",
    "    print(blist)\n",
    "    \n",
    "model = Word2Vec(blist,min_count=1,vector_size = 500, workers=4) #min_count - words which are appearing less than the count are not required\n",
    "#size - size of vocabulary, default = 100, more words - accuracy and overfitting\n",
    "#workers - no. of processors"
   ]
  },
  {
   "cell_type": "markdown",
   "metadata": {},
   "source": [
    "# 4) Model Saving"
   ]
  },
  {
   "cell_type": "code",
   "execution_count": 68,
   "metadata": {},
   "outputs": [],
   "source": [
    "model.save(\"word2vecbasic.model\")\n",
    "model.save(\"model.bin\") #bin is in the form of binary value"
   ]
  },
  {
   "cell_type": "markdown",
   "metadata": {},
   "source": [
    "# 5) Loading model and performing real time testing"
   ]
  },
  {
   "cell_type": "code",
   "execution_count": 69,
   "metadata": {},
   "outputs": [
    {
     "data": {
      "text/plain": [
       "['order',\n",
       " 'configure',\n",
       " 'software',\n",
       " 'password',\n",
       " 'want',\n",
       " 'product',\n",
       " 'customer',\n",
       " 'department',\n",
       " 'leave',\n",
       " 'sale',\n",
       " 'id',\n",
       " 'computer',\n",
       " 'company',\n",
       " 'steps',\n",
       " 'year',\n",
       " 'configuration',\n",
       " 'cafeteria',\n",
       " 'head',\n",
       " 'laptop',\n",
       " 'appointment',\n",
       " 'today',\n",
       " 'desktop',\n",
       " 'Commission',\n",
       " 'rate',\n",
       " 'could',\n",
       " 'forgot',\n",
       " 'help',\n",
       " 'Login',\n",
       " 'present',\n",
       " 'user',\n",
       " 'changes',\n",
       " 'issues',\n",
       " 'related',\n",
       " 'Sujata',\n",
       " 'Nandi',\n",
       " 'helpful',\n",
       " 'date',\n",
       " '23A12',\n",
       " 'office',\n",
       " 'domain',\n",
       " 'members',\n",
       " 'team',\n",
       " 'customers',\n",
       " 'meet',\n",
       " 'cabin',\n",
       " 'canteen',\n",
       " 'delayed',\n",
       " 'needs',\n",
       " 'time',\n",
       " 'knowledge',\n",
       " 'Thanks',\n",
       " 'Wifi',\n",
       " 'Find',\n",
       " 'abckiitacin',\n",
       " 'manufacturer',\n",
       " 'Manish',\n",
       " 'nearby',\n",
       " 'Target',\n",
       " 'Kumar',\n",
       " 'Cost',\n",
       " 'market',\n",
       " 'Lowering',\n",
       " 'made',\n",
       " 'Forgot',\n",
       " 'threats',\n",
       " 'abxgmailcom',\n",
       " 'events',\n",
       " 'lower',\n",
       " 'cost',\n",
       " 'know',\n",
       " 'departments',\n",
       " 'various',\n",
       " 'someone',\n",
       " 'forgets',\n",
       " 'Laptop',\n",
       " 'challenging',\n",
       " 'improving',\n",
       " 'fixed',\n",
       " 'Goodbye',\n",
       " 'Awesome',\n",
       " 'Thats',\n",
       " 'Thank',\n",
       " 'next',\n",
       " 'Till',\n",
       " 'bye',\n",
       " 'chatting',\n",
       " 'Nice',\n",
       " 'later',\n",
       " 'helping',\n",
       " 'See',\n",
       " 'Bye',\n",
       " 'day',\n",
       " 'Good',\n",
       " 'Hello',\n",
       " 'Hola',\n",
       " 'Hey',\n",
       " 'anyone',\n",
       " 'thanks',\n",
       " 'provide',\n",
       " 'set',\n",
       " 'information',\n",
       " 'kumar',\n",
       " 'Manoj',\n",
       " 'appoitment',\n",
       " '23A31',\n",
       " 'Location',\n",
       " '32712',\n",
       " 'location',\n",
       " 'find',\n",
       " 'Delivery',\n",
       " '431B67',\n",
       " 'locate',\n",
       " 'components',\n",
       " 'List',\n",
       " 'comprises',\n",
       " '345A23',\n",
       " '561A24',\n",
       " '562B78',\n",
       " 'track',\n",
       " 'key',\n",
       " 'Skills',\n",
       " 'shared',\n",
       " 'supplier',\n",
       " 'love',\n",
       " 'Marry',\n",
       " 'products',\n",
       " 'stock',\n",
       " 'gadgets',\n",
       " 'recorded',\n",
       " 'queries',\n",
       " 'maintainence',\n",
       " 'feedback',\n",
       " 'happy',\n",
       " 'response',\n",
       " 'profit',\n",
       " 'last',\n",
       " 'improved',\n",
       " 'impacting',\n",
       " 'factors',\n",
       " 'Impact',\n",
       " 'accidents',\n",
       " 'like',\n",
       " 'chat',\n",
       " 'bored',\n",
       " 'turnover',\n",
       " 'hours',\n",
       " 'improve',\n",
       " 'guide',\n",
       " 'Project',\n",
       " 'AI',\n",
       " 'Head',\n",
       " 'VP',\n",
       " 'opening',\n",
       " 'open',\n",
       " 'Opening',\n",
       " 'name',\n",
       " 'Bhatt',\n",
       " 'Shantanu',\n",
       " 'Roy',\n",
       " 'Siddhart',\n",
       " 'Sharma',\n",
       " 'Michel',\n",
       " 'weather',\n",
       " 'call',\n",
       " 'Legal',\n",
       " 'employee',\n",
       " 'working',\n",
       " 'Miscommunication',\n",
       " 'employees',\n",
       " 'skilled',\n",
       " 'occured',\n",
       " 'issue',\n",
       " 'Management',\n",
       " 'Risk',\n",
       " 'resolved',\n",
       " 'Conflicts',\n",
       " 'Team',\n",
       " 'urgently',\n",
       " 'Insufficient',\n",
       " 'raised',\n",
       " 'complaint',\n",
       " 'sharma',\n",
       " 'Rakesh',\n",
       " 'HRITProjects',\n",
       " 'grossing',\n",
       " 'highest',\n",
       " 'needed',\n",
       " 'Lack',\n",
       " 'benefits',\n",
       " 'analysis',\n",
       " 'Compensation',\n",
       " 'handled',\n",
       " 'development',\n",
       " 'Training',\n",
       " 'planning',\n",
       " 'Workforce',\n",
       " 'based',\n",
       " 'query',\n",
       " 'design',\n",
       " 'clarity',\n",
       " 'Job',\n",
       " 'problem',\n",
       " 'updation',\n",
       " 'demands',\n",
       " 'version',\n",
       " 'updated',\n",
       " 'clear',\n",
       " 'specifications',\n",
       " 'Hi']"
      ]
     },
     "execution_count": 69,
     "metadata": {},
     "output_type": "execute_result"
    }
   ],
   "source": [
    "model = Word2Vec.load('model.bin')\n",
    "\n",
    "vocab = list(model.wv.index_to_key)\n",
    "vocab"
   ]
  },
  {
   "cell_type": "markdown",
   "metadata": {},
   "source": [
    "# 6)  Most similar word"
   ]
  },
  {
   "cell_type": "code",
   "execution_count": 57,
   "metadata": {},
   "outputs": [
    {
     "name": "stdout",
     "output_type": "stream",
     "text": [
      "[('department', 0.14004871249198914), ('laptop', 0.13997051119804382), ('provide', 0.13256821036338806), ('leave', 0.12077756971120834), ('Head', 0.11332970857620239), ('Sharma', 0.11136998236179352), ('issue', 0.10842902958393097), ('cabin', 0.09879444539546967), ('handled', 0.09653956443071365), ('working', 0.09415676444768906)]\n"
     ]
    }
   ],
   "source": [
    "similar = model.wv.most_similar('thanks')\n",
    "print(similar)"
   ]
  },
  {
   "cell_type": "markdown",
   "metadata": {},
   "source": [
    "# 7) Dissimilar words"
   ]
  },
  {
   "cell_type": "code",
   "execution_count": 61,
   "metadata": {},
   "outputs": [
    {
     "name": "stdout",
     "output_type": "stream",
     "text": [
      "Thanks\n"
     ]
    }
   ],
   "source": [
    "dis = model.wv.doesnt_match('Thanks for visiting'.split())\n",
    "\n",
    "print(dis)"
   ]
  },
  {
   "cell_type": "markdown",
   "metadata": {},
   "source": [
    "# 8) Two similar words"
   ]
  },
  {
   "cell_type": "code",
   "execution_count": 77,
   "metadata": {},
   "outputs": [
    {
     "name": "stdout",
     "output_type": "stream",
     "text": [
      "1.0\n"
     ]
    }
   ],
   "source": [
    "similarity = model.wv.similarity('thanks', 'thanks')\n",
    "print(similarity)"
   ]
  },
  {
   "cell_type": "code",
   "execution_count": null,
   "metadata": {},
   "outputs": [],
   "source": []
  }
 ],
 "metadata": {
  "kernelspec": {
   "display_name": "Python 3",
   "language": "python",
   "name": "python3"
  },
  "language_info": {
   "codemirror_mode": {
    "name": "ipython",
    "version": 3
   },
   "file_extension": ".py",
   "mimetype": "text/x-python",
   "name": "python",
   "nbconvert_exporter": "python",
   "pygments_lexer": "ipython3",
   "version": "3.8.3"
  }
 },
 "nbformat": 4,
 "nbformat_minor": 4
}
